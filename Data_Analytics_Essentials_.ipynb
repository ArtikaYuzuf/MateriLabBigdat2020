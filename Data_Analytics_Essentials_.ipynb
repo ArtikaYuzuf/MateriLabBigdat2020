{
  "nbformat": 4,
  "nbformat_minor": 0,
  "metadata": {
    "colab": {
      "name": "1. Data Analytics Essentials .ipynb",
      "version": "0.3.2",
      "provenance": [],
      "collapsed_sections": [],
      "toc_visible": true,
      "include_colab_link": true
    },
    "language_info": {
      "codemirror_mode": {
        "name": "ipython",
        "version": 3
      },
      "file_extension": ".py",
      "mimetype": "text/x-python",
      "name": "python",
      "nbconvert_exporter": "python",
      "pygments_lexer": "ipython3",
      "version": "3.7.3"
    },
    "kernelspec": {
      "display_name": "Python 3",
      "language": "python",
      "name": "python3"
    }
  },
  "cells": [
    {
      "cell_type": "markdown",
      "metadata": {
        "id": "view-in-github",
        "colab_type": "text"
      },
      "source": [
        "<a href=\"https://colab.research.google.com/github/rc-dbe/bigdatacertification/blob/master/Data_Analytics_Essentials_.ipynb\" target=\"_parent\"><img src=\"https://colab.research.google.com/assets/colab-badge.svg\" alt=\"Open In Colab\"/></a>"
      ]
    },
    {
      "cell_type": "markdown",
      "metadata": {
        "id": "FurDMcm_yvfA",
        "colab_type": "text"
      },
      "source": [
        "\n",
        "*Hands-on of Big Data Analyst with TuV Certified Qualification*\n",
        "\n",
        "\n",
        "---\n",
        "\n",
        "\n"
      ]
    },
    {
      "cell_type": "markdown",
      "metadata": {
        "id": "px7U2SKDgpY7",
        "colab_type": "text"
      },
      "source": [
        "# 1. Data Analytics Essentials"
      ]
    },
    {
      "cell_type": "markdown",
      "metadata": {
        "id": "tY0tlG7vnLcv",
        "colab_type": "text"
      },
      "source": [
        "**Overview:** \n",
        "\n",
        "* Data Exploration:\n",
        "* Data Preparation:\n",
        "* Dimensionality Reduction"
      ]
    },
    {
      "cell_type": "markdown",
      "metadata": {
        "id": "ydIkrMPmgpY9",
        "colab_type": "text"
      },
      "source": [
        "## Data Exploration"
      ]
    },
    {
      "cell_type": "markdown",
      "metadata": {
        "id": "3fMuAO8cLrC_",
        "colab_type": "text"
      },
      "source": [
        "Data exploration is the initial step in data analysis, where users explore a large data set in an unstructured way to uncover initial patterns, characteristics, and points of interest. This process isn’t meant to reveal every bit of information a dataset holds, but rather to help create a broad picture of important trends and major points to study in greater detail."
      ]
    },
    {
      "cell_type": "markdown",
      "metadata": {
        "id": "OKnHQQg2guon",
        "colab_type": "text"
      },
      "source": [
        "### Import Data"
      ]
    },
    {
      "cell_type": "markdown",
      "metadata": {
        "id": "9rBF715QjS-A",
        "colab_type": "text"
      },
      "source": [
        "There are so many ways to import the data from the outside source. One of it is using Pandas, Pandas is a python library that widely used for data analytics."
      ]
    },
    {
      "cell_type": "code",
      "metadata": {
        "id": "gORhACongpY-",
        "colab_type": "code",
        "colab": {}
      },
      "source": [
        "# import library\n",
        "import pandas as pd"
      ],
      "execution_count": 0,
      "outputs": []
    },
    {
      "cell_type": "markdown",
      "metadata": {
        "id": "-DKrTxDpkHFP",
        "colab_type": "text"
      },
      "source": [
        "In practice this time we will use Telco Customer Churn dataset that available at Kaggle. This dataset contains unique customer records for a telecom company called Telco.\n",
        "\n",
        "This data set includes information about:\n",
        "*   Services that each customer has signed up for – phone, multiple lines, internet, online security, online backup, device protection, tech support, and streaming TV and movies.\n",
        "*   Customer account information – how long they’ve been a customer, contract, payment method, paperless billing, monthly charges, and total charges.\n",
        "*   Demographic info about customers – gender, age range, and if they have partners and dependents.\n",
        "*   Customers who left within the last month – the column is called Churn\n",
        "\n",
        "We can import many types of file, from many types of source. Since we are using Goole Collab, we are going to import the dataset from an online link(GitHUb Repo). For the other methods to import data can be seen in the Pandas documentation. [HERE](https://https://pandas.pydata.org/pandas-docs/stable/). \n",
        "\n"
      ]
    },
    {
      "cell_type": "code",
      "metadata": {
        "id": "u3r3rlhDgpZC",
        "colab_type": "code",
        "colab": {}
      },
      "source": [
        "# Import Data From an online link (GitHub)\n",
        "df_link = pd.read_csv('https://raw.githubusercontent.com/rc-dbe/bigdatacertification/master/dataset/churn.csv', sep=';',)"
      ],
      "execution_count": 0,
      "outputs": []
    },
    {
      "cell_type": "code",
      "metadata": {
        "id": "VsNDG9csuEiM",
        "colab_type": "code",
        "colab": {}
      },
      "source": [
        "# Select On of the dataset and show the data diemntion. \n",
        "df = df_link"
      ],
      "execution_count": 0,
      "outputs": []
    },
    {
      "cell_type": "code",
      "metadata": {
        "id": "4mGw9E9lvNFl",
        "colab_type": "code",
        "colab": {
          "base_uri": "https://localhost:8080/",
          "height": 34
        },
        "outputId": "0bb55d25-c400-43d6-f4ce-d54ae20548f5"
      },
      "source": [
        "# Prints the amount of rows and column numbers\n",
        "df.shape"
      ],
      "execution_count": 4,
      "outputs": [
        {
          "output_type": "execute_result",
          "data": {
            "text/plain": [
              "(7043, 21)"
            ]
          },
          "metadata": {
            "tags": []
          },
          "execution_count": 4
        }
      ]
    },
    {
      "cell_type": "code",
      "metadata": {
        "id": "-c7eRawvgpZF",
        "colab_type": "code",
        "colab": {
          "base_uri": "https://localhost:8080/",
          "height": 459
        },
        "outputId": "edb7ea5d-928d-462b-db92-96846864ff4e"
      },
      "source": [
        "# Prints information about a DataFrame including the index dtype and column dtypes, non-null values and memory usage.\n",
        "df.info()"
      ],
      "execution_count": 5,
      "outputs": [
        {
          "output_type": "stream",
          "text": [
            "<class 'pandas.core.frame.DataFrame'>\n",
            "RangeIndex: 7043 entries, 0 to 7042\n",
            "Data columns (total 21 columns):\n",
            "customerID          7043 non-null object\n",
            "gender              7043 non-null object\n",
            "SeniorCitizen       7043 non-null object\n",
            "Partner             7043 non-null object\n",
            "Dependents          7043 non-null object\n",
            "tenure              7043 non-null int64\n",
            "PhoneService        7043 non-null object\n",
            "MultipleLines       7043 non-null object\n",
            "InternetService     7043 non-null object\n",
            "OnlineSecurity      7043 non-null object\n",
            "OnlineBackup        7043 non-null object\n",
            "DeviceProtection    7043 non-null object\n",
            "TechSupport         7043 non-null object\n",
            "StreamingTV         7043 non-null object\n",
            "StreamingMovies     7043 non-null object\n",
            "Contract            7043 non-null object\n",
            "PaperlessBilling    7043 non-null object\n",
            "PaymentMethod       7043 non-null object\n",
            "MonthlyCharges      7043 non-null int64\n",
            "TotalCharges        7032 non-null float64\n",
            "Churn               7043 non-null object\n",
            "dtypes: float64(1), int64(2), object(18)\n",
            "memory usage: 1.1+ MB\n"
          ],
          "name": "stdout"
        }
      ]
    },
    {
      "cell_type": "code",
      "metadata": {
        "id": "FLMRE4zCpkxt",
        "colab_type": "code",
        "colab": {
          "base_uri": "https://localhost:8080/",
          "height": 549
        },
        "outputId": "2ec34aac-e144-45d3-d424-33f90204997e"
      },
      "source": [
        "# Prints 10 first Row\n",
        "df.head(10)"
      ],
      "execution_count": 6,
      "outputs": [
        {
          "output_type": "execute_result",
          "data": {
            "text/html": [
              "<div>\n",
              "<style scoped>\n",
              "    .dataframe tbody tr th:only-of-type {\n",
              "        vertical-align: middle;\n",
              "    }\n",
              "\n",
              "    .dataframe tbody tr th {\n",
              "        vertical-align: top;\n",
              "    }\n",
              "\n",
              "    .dataframe thead th {\n",
              "        text-align: right;\n",
              "    }\n",
              "</style>\n",
              "<table border=\"1\" class=\"dataframe\">\n",
              "  <thead>\n",
              "    <tr style=\"text-align: right;\">\n",
              "      <th></th>\n",
              "      <th>customerID</th>\n",
              "      <th>gender</th>\n",
              "      <th>SeniorCitizen</th>\n",
              "      <th>Partner</th>\n",
              "      <th>Dependents</th>\n",
              "      <th>tenure</th>\n",
              "      <th>PhoneService</th>\n",
              "      <th>MultipleLines</th>\n",
              "      <th>InternetService</th>\n",
              "      <th>OnlineSecurity</th>\n",
              "      <th>OnlineBackup</th>\n",
              "      <th>DeviceProtection</th>\n",
              "      <th>TechSupport</th>\n",
              "      <th>StreamingTV</th>\n",
              "      <th>StreamingMovies</th>\n",
              "      <th>Contract</th>\n",
              "      <th>PaperlessBilling</th>\n",
              "      <th>PaymentMethod</th>\n",
              "      <th>MonthlyCharges</th>\n",
              "      <th>TotalCharges</th>\n",
              "      <th>Churn</th>\n",
              "    </tr>\n",
              "  </thead>\n",
              "  <tbody>\n",
              "    <tr>\n",
              "      <th>0</th>\n",
              "      <td>7590-VHVEG</td>\n",
              "      <td>Female</td>\n",
              "      <td>No</td>\n",
              "      <td>Yes</td>\n",
              "      <td>No</td>\n",
              "      <td>1</td>\n",
              "      <td>No</td>\n",
              "      <td>No phone service</td>\n",
              "      <td>DSL</td>\n",
              "      <td>No</td>\n",
              "      <td>Yes</td>\n",
              "      <td>No</td>\n",
              "      <td>No</td>\n",
              "      <td>No</td>\n",
              "      <td>No</td>\n",
              "      <td>Month-to-month</td>\n",
              "      <td>Yes</td>\n",
              "      <td>Electronic check</td>\n",
              "      <td>2985</td>\n",
              "      <td>2985.0</td>\n",
              "      <td>No</td>\n",
              "    </tr>\n",
              "    <tr>\n",
              "      <th>1</th>\n",
              "      <td>5575-GNVDE</td>\n",
              "      <td>Male</td>\n",
              "      <td>No</td>\n",
              "      <td>No</td>\n",
              "      <td>No</td>\n",
              "      <td>34</td>\n",
              "      <td>Yes</td>\n",
              "      <td>No</td>\n",
              "      <td>DSL</td>\n",
              "      <td>Yes</td>\n",
              "      <td>No</td>\n",
              "      <td>Yes</td>\n",
              "      <td>No</td>\n",
              "      <td>No</td>\n",
              "      <td>No</td>\n",
              "      <td>One year</td>\n",
              "      <td>No</td>\n",
              "      <td>Mailed check</td>\n",
              "      <td>5695</td>\n",
              "      <td>18895.0</td>\n",
              "      <td>No</td>\n",
              "    </tr>\n",
              "    <tr>\n",
              "      <th>2</th>\n",
              "      <td>3668-QPYBK</td>\n",
              "      <td>Male</td>\n",
              "      <td>No</td>\n",
              "      <td>No</td>\n",
              "      <td>No</td>\n",
              "      <td>2</td>\n",
              "      <td>Yes</td>\n",
              "      <td>No</td>\n",
              "      <td>DSL</td>\n",
              "      <td>Yes</td>\n",
              "      <td>Yes</td>\n",
              "      <td>No</td>\n",
              "      <td>No</td>\n",
              "      <td>No</td>\n",
              "      <td>No</td>\n",
              "      <td>Month-to-month</td>\n",
              "      <td>Yes</td>\n",
              "      <td>Mailed check</td>\n",
              "      <td>5385</td>\n",
              "      <td>10815.0</td>\n",
              "      <td>Yes</td>\n",
              "    </tr>\n",
              "    <tr>\n",
              "      <th>3</th>\n",
              "      <td>7795-CFOCW</td>\n",
              "      <td>Male</td>\n",
              "      <td>No</td>\n",
              "      <td>No</td>\n",
              "      <td>No</td>\n",
              "      <td>45</td>\n",
              "      <td>No</td>\n",
              "      <td>No phone service</td>\n",
              "      <td>DSL</td>\n",
              "      <td>Yes</td>\n",
              "      <td>No</td>\n",
              "      <td>Yes</td>\n",
              "      <td>Yes</td>\n",
              "      <td>No</td>\n",
              "      <td>No</td>\n",
              "      <td>One year</td>\n",
              "      <td>No</td>\n",
              "      <td>Bank transfer (automatic)</td>\n",
              "      <td>423</td>\n",
              "      <td>184075.0</td>\n",
              "      <td>No</td>\n",
              "    </tr>\n",
              "    <tr>\n",
              "      <th>4</th>\n",
              "      <td>9237-HQITU</td>\n",
              "      <td>Female</td>\n",
              "      <td>No</td>\n",
              "      <td>No</td>\n",
              "      <td>No</td>\n",
              "      <td>2</td>\n",
              "      <td>Yes</td>\n",
              "      <td>No</td>\n",
              "      <td>Fiber optic</td>\n",
              "      <td>No</td>\n",
              "      <td>No</td>\n",
              "      <td>No</td>\n",
              "      <td>No</td>\n",
              "      <td>No</td>\n",
              "      <td>No</td>\n",
              "      <td>Month-to-month</td>\n",
              "      <td>Yes</td>\n",
              "      <td>Electronic check</td>\n",
              "      <td>707</td>\n",
              "      <td>15165.0</td>\n",
              "      <td>Yes</td>\n",
              "    </tr>\n",
              "    <tr>\n",
              "      <th>5</th>\n",
              "      <td>9305-CDSKC</td>\n",
              "      <td>Female</td>\n",
              "      <td>No</td>\n",
              "      <td>No</td>\n",
              "      <td>No</td>\n",
              "      <td>8</td>\n",
              "      <td>Yes</td>\n",
              "      <td>Yes</td>\n",
              "      <td>Fiber optic</td>\n",
              "      <td>No</td>\n",
              "      <td>No</td>\n",
              "      <td>Yes</td>\n",
              "      <td>No</td>\n",
              "      <td>Yes</td>\n",
              "      <td>Yes</td>\n",
              "      <td>Month-to-month</td>\n",
              "      <td>Yes</td>\n",
              "      <td>Electronic check</td>\n",
              "      <td>9965</td>\n",
              "      <td>8205.0</td>\n",
              "      <td>Yes</td>\n",
              "    </tr>\n",
              "    <tr>\n",
              "      <th>6</th>\n",
              "      <td>1452-KIOVK</td>\n",
              "      <td>Male</td>\n",
              "      <td>No</td>\n",
              "      <td>No</td>\n",
              "      <td>Yes</td>\n",
              "      <td>22</td>\n",
              "      <td>Yes</td>\n",
              "      <td>Yes</td>\n",
              "      <td>Fiber optic</td>\n",
              "      <td>No</td>\n",
              "      <td>Yes</td>\n",
              "      <td>No</td>\n",
              "      <td>No</td>\n",
              "      <td>Yes</td>\n",
              "      <td>No</td>\n",
              "      <td>Month-to-month</td>\n",
              "      <td>Yes</td>\n",
              "      <td>Credit card (automatic)</td>\n",
              "      <td>891</td>\n",
              "      <td>19494.0</td>\n",
              "      <td>No</td>\n",
              "    </tr>\n",
              "    <tr>\n",
              "      <th>7</th>\n",
              "      <td>6713-OKOMC</td>\n",
              "      <td>Female</td>\n",
              "      <td>No</td>\n",
              "      <td>No</td>\n",
              "      <td>No</td>\n",
              "      <td>10</td>\n",
              "      <td>No</td>\n",
              "      <td>No phone service</td>\n",
              "      <td>DSL</td>\n",
              "      <td>Yes</td>\n",
              "      <td>No</td>\n",
              "      <td>No</td>\n",
              "      <td>No</td>\n",
              "      <td>No</td>\n",
              "      <td>No</td>\n",
              "      <td>Month-to-month</td>\n",
              "      <td>No</td>\n",
              "      <td>Mailed check</td>\n",
              "      <td>2975</td>\n",
              "      <td>3019.0</td>\n",
              "      <td>No</td>\n",
              "    </tr>\n",
              "    <tr>\n",
              "      <th>8</th>\n",
              "      <td>7892-POOKP</td>\n",
              "      <td>Female</td>\n",
              "      <td>No</td>\n",
              "      <td>Yes</td>\n",
              "      <td>No</td>\n",
              "      <td>28</td>\n",
              "      <td>Yes</td>\n",
              "      <td>Yes</td>\n",
              "      <td>Fiber optic</td>\n",
              "      <td>No</td>\n",
              "      <td>No</td>\n",
              "      <td>Yes</td>\n",
              "      <td>Yes</td>\n",
              "      <td>Yes</td>\n",
              "      <td>Yes</td>\n",
              "      <td>Month-to-month</td>\n",
              "      <td>Yes</td>\n",
              "      <td>Electronic check</td>\n",
              "      <td>1048</td>\n",
              "      <td>304605.0</td>\n",
              "      <td>Yes</td>\n",
              "    </tr>\n",
              "    <tr>\n",
              "      <th>9</th>\n",
              "      <td>6388-TABGU</td>\n",
              "      <td>Male</td>\n",
              "      <td>No</td>\n",
              "      <td>No</td>\n",
              "      <td>Yes</td>\n",
              "      <td>62</td>\n",
              "      <td>Yes</td>\n",
              "      <td>No</td>\n",
              "      <td>DSL</td>\n",
              "      <td>Yes</td>\n",
              "      <td>Yes</td>\n",
              "      <td>No</td>\n",
              "      <td>No</td>\n",
              "      <td>No</td>\n",
              "      <td>No</td>\n",
              "      <td>One year</td>\n",
              "      <td>No</td>\n",
              "      <td>Bank transfer (automatic)</td>\n",
              "      <td>5615</td>\n",
              "      <td>348795.0</td>\n",
              "      <td>No</td>\n",
              "    </tr>\n",
              "  </tbody>\n",
              "</table>\n",
              "</div>"
            ],
            "text/plain": [
              "   customerID  gender SeniorCitizen  ... MonthlyCharges TotalCharges  Churn\n",
              "0  7590-VHVEG  Female            No  ...           2985       2985.0     No\n",
              "1  5575-GNVDE    Male            No  ...           5695      18895.0     No\n",
              "2  3668-QPYBK    Male            No  ...           5385      10815.0    Yes\n",
              "3  7795-CFOCW    Male            No  ...            423     184075.0     No\n",
              "4  9237-HQITU  Female            No  ...            707      15165.0    Yes\n",
              "5  9305-CDSKC  Female            No  ...           9965       8205.0    Yes\n",
              "6  1452-KIOVK    Male            No  ...            891      19494.0     No\n",
              "7  6713-OKOMC  Female            No  ...           2975       3019.0     No\n",
              "8  7892-POOKP  Female            No  ...           1048     304605.0    Yes\n",
              "9  6388-TABGU    Male            No  ...           5615     348795.0     No\n",
              "\n",
              "[10 rows x 21 columns]"
            ]
          },
          "metadata": {
            "tags": []
          },
          "execution_count": 6
        }
      ]
    },
    {
      "cell_type": "code",
      "metadata": {
        "id": "GJh_PXp1gpZI",
        "colab_type": "code",
        "colab": {
          "base_uri": "https://localhost:8080/",
          "height": 309
        },
        "outputId": "c601fed5-fca7-490b-e0fa-957691788b75"
      },
      "source": [
        "# Prints 5 last Row\n",
        "df.tail(5)"
      ],
      "execution_count": 7,
      "outputs": [
        {
          "output_type": "execute_result",
          "data": {
            "text/html": [
              "<div>\n",
              "<style scoped>\n",
              "    .dataframe tbody tr th:only-of-type {\n",
              "        vertical-align: middle;\n",
              "    }\n",
              "\n",
              "    .dataframe tbody tr th {\n",
              "        vertical-align: top;\n",
              "    }\n",
              "\n",
              "    .dataframe thead th {\n",
              "        text-align: right;\n",
              "    }\n",
              "</style>\n",
              "<table border=\"1\" class=\"dataframe\">\n",
              "  <thead>\n",
              "    <tr style=\"text-align: right;\">\n",
              "      <th></th>\n",
              "      <th>customerID</th>\n",
              "      <th>gender</th>\n",
              "      <th>SeniorCitizen</th>\n",
              "      <th>Partner</th>\n",
              "      <th>Dependents</th>\n",
              "      <th>tenure</th>\n",
              "      <th>PhoneService</th>\n",
              "      <th>MultipleLines</th>\n",
              "      <th>InternetService</th>\n",
              "      <th>OnlineSecurity</th>\n",
              "      <th>OnlineBackup</th>\n",
              "      <th>DeviceProtection</th>\n",
              "      <th>TechSupport</th>\n",
              "      <th>StreamingTV</th>\n",
              "      <th>StreamingMovies</th>\n",
              "      <th>Contract</th>\n",
              "      <th>PaperlessBilling</th>\n",
              "      <th>PaymentMethod</th>\n",
              "      <th>MonthlyCharges</th>\n",
              "      <th>TotalCharges</th>\n",
              "      <th>Churn</th>\n",
              "    </tr>\n",
              "  </thead>\n",
              "  <tbody>\n",
              "    <tr>\n",
              "      <th>7038</th>\n",
              "      <td>6840-RESVB</td>\n",
              "      <td>Male</td>\n",
              "      <td>No</td>\n",
              "      <td>Yes</td>\n",
              "      <td>Yes</td>\n",
              "      <td>24</td>\n",
              "      <td>Yes</td>\n",
              "      <td>Yes</td>\n",
              "      <td>DSL</td>\n",
              "      <td>Yes</td>\n",
              "      <td>No</td>\n",
              "      <td>Yes</td>\n",
              "      <td>Yes</td>\n",
              "      <td>Yes</td>\n",
              "      <td>Yes</td>\n",
              "      <td>One year</td>\n",
              "      <td>Yes</td>\n",
              "      <td>Mailed check</td>\n",
              "      <td>848</td>\n",
              "      <td>19905.0</td>\n",
              "      <td>No</td>\n",
              "    </tr>\n",
              "    <tr>\n",
              "      <th>7039</th>\n",
              "      <td>2234-XADUH</td>\n",
              "      <td>Female</td>\n",
              "      <td>No</td>\n",
              "      <td>Yes</td>\n",
              "      <td>Yes</td>\n",
              "      <td>72</td>\n",
              "      <td>Yes</td>\n",
              "      <td>Yes</td>\n",
              "      <td>Fiber optic</td>\n",
              "      <td>No</td>\n",
              "      <td>Yes</td>\n",
              "      <td>Yes</td>\n",
              "      <td>No</td>\n",
              "      <td>Yes</td>\n",
              "      <td>Yes</td>\n",
              "      <td>One year</td>\n",
              "      <td>Yes</td>\n",
              "      <td>Credit card (automatic)</td>\n",
              "      <td>1032</td>\n",
              "      <td>73629.0</td>\n",
              "      <td>No</td>\n",
              "    </tr>\n",
              "    <tr>\n",
              "      <th>7040</th>\n",
              "      <td>4801-JZAZL</td>\n",
              "      <td>Female</td>\n",
              "      <td>No</td>\n",
              "      <td>Yes</td>\n",
              "      <td>Yes</td>\n",
              "      <td>11</td>\n",
              "      <td>No</td>\n",
              "      <td>No phone service</td>\n",
              "      <td>DSL</td>\n",
              "      <td>Yes</td>\n",
              "      <td>No</td>\n",
              "      <td>No</td>\n",
              "      <td>No</td>\n",
              "      <td>No</td>\n",
              "      <td>No</td>\n",
              "      <td>Month-to-month</td>\n",
              "      <td>Yes</td>\n",
              "      <td>Electronic check</td>\n",
              "      <td>296</td>\n",
              "      <td>34645.0</td>\n",
              "      <td>No</td>\n",
              "    </tr>\n",
              "    <tr>\n",
              "      <th>7041</th>\n",
              "      <td>8361-LTMKD</td>\n",
              "      <td>Male</td>\n",
              "      <td>Yes</td>\n",
              "      <td>Yes</td>\n",
              "      <td>No</td>\n",
              "      <td>4</td>\n",
              "      <td>Yes</td>\n",
              "      <td>Yes</td>\n",
              "      <td>Fiber optic</td>\n",
              "      <td>No</td>\n",
              "      <td>No</td>\n",
              "      <td>No</td>\n",
              "      <td>No</td>\n",
              "      <td>No</td>\n",
              "      <td>No</td>\n",
              "      <td>Month-to-month</td>\n",
              "      <td>Yes</td>\n",
              "      <td>Mailed check</td>\n",
              "      <td>744</td>\n",
              "      <td>3066.0</td>\n",
              "      <td>Yes</td>\n",
              "    </tr>\n",
              "    <tr>\n",
              "      <th>7042</th>\n",
              "      <td>3186-AJIEK</td>\n",
              "      <td>Male</td>\n",
              "      <td>No</td>\n",
              "      <td>No</td>\n",
              "      <td>No</td>\n",
              "      <td>66</td>\n",
              "      <td>Yes</td>\n",
              "      <td>No</td>\n",
              "      <td>Fiber optic</td>\n",
              "      <td>Yes</td>\n",
              "      <td>No</td>\n",
              "      <td>Yes</td>\n",
              "      <td>Yes</td>\n",
              "      <td>Yes</td>\n",
              "      <td>Yes</td>\n",
              "      <td>Two year</td>\n",
              "      <td>Yes</td>\n",
              "      <td>Bank transfer (automatic)</td>\n",
              "      <td>10565</td>\n",
              "      <td>68445.0</td>\n",
              "      <td>No</td>\n",
              "    </tr>\n",
              "  </tbody>\n",
              "</table>\n",
              "</div>"
            ],
            "text/plain": [
              "      customerID  gender SeniorCitizen  ... MonthlyCharges TotalCharges  Churn\n",
              "7038  6840-RESVB    Male            No  ...            848      19905.0     No\n",
              "7039  2234-XADUH  Female            No  ...           1032      73629.0     No\n",
              "7040  4801-JZAZL  Female            No  ...            296      34645.0     No\n",
              "7041  8361-LTMKD    Male           Yes  ...            744       3066.0    Yes\n",
              "7042  3186-AJIEK    Male            No  ...          10565      68445.0     No\n",
              "\n",
              "[5 rows x 21 columns]"
            ]
          },
          "metadata": {
            "tags": []
          },
          "execution_count": 7
        }
      ]
    },
    {
      "cell_type": "markdown",
      "metadata": {
        "id": "xhWgEylwgpZN",
        "colab_type": "text"
      },
      "source": [
        "### Descriptive Statistics"
      ]
    },
    {
      "cell_type": "code",
      "metadata": {
        "id": "UdUo4BjDgpZR",
        "colab_type": "code",
        "colab": {}
      },
      "source": [
        "# Select Only Numeric Variable\n",
        "df_num = df[['MonthlyCharges', 'tenure', 'TotalCharges']]"
      ],
      "execution_count": 0,
      "outputs": []
    },
    {
      "cell_type": "code",
      "metadata": {
        "id": "-il0-wFugpZU",
        "colab_type": "code",
        "colab": {
          "base_uri": "https://localhost:8080/",
          "height": 85
        },
        "outputId": "7f8f8515-3cdf-4640-9ad0-8f948af585dd"
      },
      "source": [
        "# Mean value\n",
        "mean= df_num.mean()\n",
        "mean"
      ],
      "execution_count": 9,
      "outputs": [
        {
          "output_type": "execute_result",
          "data": {
            "text/plain": [
              "MonthlyCharges      3517.437456\n",
              "tenure                32.371149\n",
              "TotalCharges      126251.908419\n",
              "dtype: float64"
            ]
          },
          "metadata": {
            "tags": []
          },
          "execution_count": 9
        }
      ]
    },
    {
      "cell_type": "code",
      "metadata": {
        "id": "2anRdXrBgpZX",
        "colab_type": "code",
        "colab": {
          "base_uri": "https://localhost:8080/",
          "height": 85
        },
        "outputId": "af985d8c-11de-4e7d-e476-aa5bac93395c"
      },
      "source": [
        "# Median value\n",
        "median= df_num.median()\n",
        "median"
      ],
      "execution_count": 10,
      "outputs": [
        {
          "output_type": "execute_result",
          "data": {
            "text/plain": [
              "MonthlyCharges     1885.0\n",
              "tenure               29.0\n",
              "TotalCharges      36769.0\n",
              "dtype: float64"
            ]
          },
          "metadata": {
            "tags": []
          },
          "execution_count": 10
        }
      ]
    },
    {
      "cell_type": "code",
      "metadata": {
        "id": "L8ijh_4GgpZb",
        "colab_type": "code",
        "colab": {
          "base_uri": "https://localhost:8080/",
          "height": 80
        },
        "outputId": "684c2e72-265d-4c8e-c6a3-c58f6da73eea"
      },
      "source": [
        "# Mode value\n",
        "mode= df_num.mode()\n",
        "mode"
      ],
      "execution_count": 11,
      "outputs": [
        {
          "output_type": "execute_result",
          "data": {
            "text/html": [
              "<div>\n",
              "<style scoped>\n",
              "    .dataframe tbody tr th:only-of-type {\n",
              "        vertical-align: middle;\n",
              "    }\n",
              "\n",
              "    .dataframe tbody tr th {\n",
              "        vertical-align: top;\n",
              "    }\n",
              "\n",
              "    .dataframe thead th {\n",
              "        text-align: right;\n",
              "    }\n",
              "</style>\n",
              "<table border=\"1\" class=\"dataframe\">\n",
              "  <thead>\n",
              "    <tr style=\"text-align: right;\">\n",
              "      <th></th>\n",
              "      <th>MonthlyCharges</th>\n",
              "      <th>tenure</th>\n",
              "      <th>TotalCharges</th>\n",
              "    </tr>\n",
              "  </thead>\n",
              "  <tbody>\n",
              "    <tr>\n",
              "      <th>0</th>\n",
              "      <td>2005</td>\n",
              "      <td>1</td>\n",
              "      <td>202.0</td>\n",
              "    </tr>\n",
              "  </tbody>\n",
              "</table>\n",
              "</div>"
            ],
            "text/plain": [
              "   MonthlyCharges  tenure  TotalCharges\n",
              "0            2005       1         202.0"
            ]
          },
          "metadata": {
            "tags": []
          },
          "execution_count": 11
        }
      ]
    },
    {
      "cell_type": "code",
      "metadata": {
        "id": "lFUpikf0gpZO",
        "colab_type": "code",
        "colab": {
          "base_uri": "https://localhost:8080/",
          "height": 142
        },
        "outputId": "6fcadd6a-f154-43b9-92d4-44e01da64441"
      },
      "source": [
        "# Prints descriptive statistics that summarize the central tendency, dispersion and shape of a dataset’s distribution\n",
        "df.describe().transpose()"
      ],
      "execution_count": 12,
      "outputs": [
        {
          "output_type": "execute_result",
          "data": {
            "text/html": [
              "<div>\n",
              "<style scoped>\n",
              "    .dataframe tbody tr th:only-of-type {\n",
              "        vertical-align: middle;\n",
              "    }\n",
              "\n",
              "    .dataframe tbody tr th {\n",
              "        vertical-align: top;\n",
              "    }\n",
              "\n",
              "    .dataframe thead th {\n",
              "        text-align: right;\n",
              "    }\n",
              "</style>\n",
              "<table border=\"1\" class=\"dataframe\">\n",
              "  <thead>\n",
              "    <tr style=\"text-align: right;\">\n",
              "      <th></th>\n",
              "      <th>count</th>\n",
              "      <th>mean</th>\n",
              "      <th>std</th>\n",
              "      <th>min</th>\n",
              "      <th>25%</th>\n",
              "      <th>50%</th>\n",
              "      <th>75%</th>\n",
              "      <th>max</th>\n",
              "    </tr>\n",
              "  </thead>\n",
              "  <tbody>\n",
              "    <tr>\n",
              "      <th>tenure</th>\n",
              "      <td>7043.0</td>\n",
              "      <td>32.371149</td>\n",
              "      <td>24.559481</td>\n",
              "      <td>0.0</td>\n",
              "      <td>9.0</td>\n",
              "      <td>29.0</td>\n",
              "      <td>55.0</td>\n",
              "      <td>72.0</td>\n",
              "    </tr>\n",
              "    <tr>\n",
              "      <th>MonthlyCharges</th>\n",
              "      <td>7043.0</td>\n",
              "      <td>3517.437456</td>\n",
              "      <td>3634.996251</td>\n",
              "      <td>19.0</td>\n",
              "      <td>647.5</td>\n",
              "      <td>1885.0</td>\n",
              "      <td>7015.0</td>\n",
              "      <td>11875.0</td>\n",
              "    </tr>\n",
              "    <tr>\n",
              "      <th>TotalCharges</th>\n",
              "      <td>7032.0</td>\n",
              "      <td>126251.908419</td>\n",
              "      <td>192523.026544</td>\n",
              "      <td>19.0</td>\n",
              "      <td>7562.0</td>\n",
              "      <td>36769.0</td>\n",
              "      <td>143010.0</td>\n",
              "      <td>867245.0</td>\n",
              "    </tr>\n",
              "  </tbody>\n",
              "</table>\n",
              "</div>"
            ],
            "text/plain": [
              "                 count           mean  ...       75%       max\n",
              "tenure          7043.0      32.371149  ...      55.0      72.0\n",
              "MonthlyCharges  7043.0    3517.437456  ...    7015.0   11875.0\n",
              "TotalCharges    7032.0  126251.908419  ...  143010.0  867245.0\n",
              "\n",
              "[3 rows x 8 columns]"
            ]
          },
          "metadata": {
            "tags": []
          },
          "execution_count": 12
        }
      ]
    },
    {
      "cell_type": "markdown",
      "metadata": {
        "id": "kX5UrnL-gpZe",
        "colab_type": "text"
      },
      "source": [
        "### Correlation"
      ]
    },
    {
      "cell_type": "markdown",
      "metadata": {
        "id": "8md7N1z75AO0",
        "colab_type": "text"
      },
      "source": [
        "To find the pairwise correlation of all columns in the data frame we can use dataframe.corr() function from Pandas.  Any NA values are automatically excluded and \n",
        "any non-numeric data type columns in the data frame automatically  ignored. Read the documentation [HERE](https://https://pandas.pydata.org/pandas-docs/stable/reference/api/pandas.DataFrame.corr.html). \n",
        "\n",
        "There are 4 methods available:\n",
        "*  pearson: standard correlation coefficient\n",
        "*  kendall: Kendall Tau correlation coefficient\n",
        "*  spearman: Spearman rank correlation\n",
        "*  callable: callable with input two 1d ndarrays"
      ]
    },
    {
      "cell_type": "code",
      "metadata": {
        "id": "CN9NCDiagpZf",
        "colab_type": "code",
        "colab": {
          "base_uri": "https://localhost:8080/",
          "height": 142
        },
        "outputId": "e49f0f7c-2a5c-48d0-909c-b1917a7676fe"
      },
      "source": [
        "# Count the correlation among the columns using pearson method\n",
        "correlation_matrix = df.corr(method='pearson')\n",
        "\n",
        "# Print Correlation Matrix\n",
        "correlation_matrix"
      ],
      "execution_count": 13,
      "outputs": [
        {
          "output_type": "execute_result",
          "data": {
            "text/html": [
              "<div>\n",
              "<style scoped>\n",
              "    .dataframe tbody tr th:only-of-type {\n",
              "        vertical-align: middle;\n",
              "    }\n",
              "\n",
              "    .dataframe tbody tr th {\n",
              "        vertical-align: top;\n",
              "    }\n",
              "\n",
              "    .dataframe thead th {\n",
              "        text-align: right;\n",
              "    }\n",
              "</style>\n",
              "<table border=\"1\" class=\"dataframe\">\n",
              "  <thead>\n",
              "    <tr style=\"text-align: right;\">\n",
              "      <th></th>\n",
              "      <th>tenure</th>\n",
              "      <th>MonthlyCharges</th>\n",
              "      <th>TotalCharges</th>\n",
              "    </tr>\n",
              "  </thead>\n",
              "  <tbody>\n",
              "    <tr>\n",
              "      <th>tenure</th>\n",
              "      <td>1.000000</td>\n",
              "      <td>0.112925</td>\n",
              "      <td>0.534780</td>\n",
              "    </tr>\n",
              "    <tr>\n",
              "      <th>MonthlyCharges</th>\n",
              "      <td>0.112925</td>\n",
              "      <td>1.000000</td>\n",
              "      <td>0.189156</td>\n",
              "    </tr>\n",
              "    <tr>\n",
              "      <th>TotalCharges</th>\n",
              "      <td>0.534780</td>\n",
              "      <td>0.189156</td>\n",
              "      <td>1.000000</td>\n",
              "    </tr>\n",
              "  </tbody>\n",
              "</table>\n",
              "</div>"
            ],
            "text/plain": [
              "                  tenure  MonthlyCharges  TotalCharges\n",
              "tenure          1.000000        0.112925      0.534780\n",
              "MonthlyCharges  0.112925        1.000000      0.189156\n",
              "TotalCharges    0.534780        0.189156      1.000000"
            ]
          },
          "metadata": {
            "tags": []
          },
          "execution_count": 13
        }
      ]
    },
    {
      "cell_type": "markdown",
      "metadata": {
        "id": "Q8qc25s-lWcb",
        "colab_type": "text"
      },
      "source": [
        "### Contingency Table"
      ]
    },
    {
      "cell_type": "code",
      "metadata": {
        "id": "F7b99uKZgpZu",
        "colab_type": "code",
        "colab": {
          "base_uri": "https://localhost:8080/",
          "height": 119
        },
        "outputId": "4092cd03-4514-47bd-e25b-9b59a18fd9a4"
      },
      "source": [
        "# Compute Contingency Table\n",
        "data_crosstab = pd.crosstab(df['PaymentMethod'], \n",
        "                            df['Churn'],  \n",
        "                               margins = False) \n",
        "print(data_crosstab) "
      ],
      "execution_count": 14,
      "outputs": [
        {
          "output_type": "stream",
          "text": [
            "Churn                        No   Yes\n",
            "PaymentMethod                        \n",
            "Bank transfer (automatic)  1286   258\n",
            "Credit card (automatic)    1290   232\n",
            "Electronic check           1294  1071\n",
            "Mailed check               1304   308\n"
          ],
          "name": "stdout"
        }
      ]
    },
    {
      "cell_type": "markdown",
      "metadata": {
        "id": "2YbMh7zdgpZi",
        "colab_type": "text"
      },
      "source": [
        "### Data Visualization"
      ]
    },
    {
      "cell_type": "code",
      "metadata": {
        "id": "ITFnE_BxmoMQ",
        "colab_type": "code",
        "colab": {}
      },
      "source": [
        "# Import Library\n",
        "import seaborn as sns\n",
        "import matplotlib.pyplot as plt\n",
        "import warnings\n",
        "warnings.filterwarnings('ignore')\n",
        "%matplotlib inline\n",
        "\n",
        "plt.rcParams['figure.figsize'] = (7, 7)\n",
        "plt.style.use('ggplot')"
      ],
      "execution_count": 0,
      "outputs": []
    },
    {
      "cell_type": "markdown",
      "metadata": {
        "id": "cG0EUWG78LP_",
        "colab_type": "text"
      },
      "source": [
        "We can customizing plots with style sheets. The style package adds support for easy-to-switch plotting “styles” with the same parameters as a matplotlibrc file.\n",
        "\n",
        "There are a number of pre-defined styles provided by matplotlib, that can be seen [HERE](https://matplotlib.org/3.1.0/gallery/style_sheets/style_sheets_reference.html)"
      ]
    },
    {
      "cell_type": "markdown",
      "metadata": {
        "id": "gcnTPRevla0J",
        "colab_type": "text"
      },
      "source": [
        "#### Visualize Data Distribution"
      ]
    },
    {
      "cell_type": "code",
      "metadata": {
        "id": "Q4uZuG-mgpZn",
        "colab_type": "code",
        "colab": {
          "base_uri": "https://localhost:8080/",
          "height": 466
        },
        "outputId": "c953fee5-58c3-4f11-9b6f-413ee9e76fb3"
      },
      "source": [
        "# Visualize Data Distribution\n",
        "sns.distplot(df['MonthlyCharges'])"
      ],
      "execution_count": 16,
      "outputs": [
        {
          "output_type": "execute_result",
          "data": {
            "text/plain": [
              "<matplotlib.axes._subplots.AxesSubplot at 0x7f9ba54a9eb8>"
            ]
          },
          "metadata": {
            "tags": []
          },
          "execution_count": 16
        },
        {
          "output_type": "display_data",
          "data": {
            "image/png": "[encoded data removed]",
            "text/plain": [
              "<Figure size 504x504 with 1 Axes>"
            ]
          },
          "metadata": {
            "tags": []
          }
        }
      ]
    },
    {
      "cell_type": "markdown",
      "metadata": {
        "id": "G7RT7Y8lhGil",
        "colab_type": "text"
      },
      "source": [
        "#### Scatter Plot"
      ]
    },
    {
      "cell_type": "code",
      "metadata": {
        "id": "BIWERVqagpZi",
        "colab_type": "code",
        "colab": {
          "base_uri": "https://localhost:8080/",
          "height": 466
        },
        "outputId": "57b48d5a-fe27-4697-d0e4-e6cddd37cfed"
      },
      "source": [
        "# Scatter Plot\n",
        "sns.scatterplot(x=\"tenure\", y=\"TotalCharges\", data= df)"
      ],
      "execution_count": 17,
      "outputs": [
        {
          "output_type": "execute_result",
          "data": {
            "text/plain": [
              "<matplotlib.axes._subplots.AxesSubplot at 0x7f9b9933c320>"
            ]
          },
          "metadata": {
            "tags": []
          },
          "execution_count": 17
        },
        {
          "output_type": "display_data",
          "data": {
            "image/png": "[encoded data removed]",
            "text/plain": [
              "<Figure size 504x504 with 1 Axes>"
            ]
          },
          "metadata": {
            "tags": []
          }
        }
      ]
    },
    {
      "cell_type": "markdown",
      "metadata": {
        "id": "I3w3PPA5hN6t",
        "colab_type": "text"
      },
      "source": [
        "#### Bar Chart"
      ]
    },
    {
      "cell_type": "code",
      "metadata": {
        "id": "hoSaQnhMgpZl",
        "colab_type": "code",
        "colab": {
          "base_uri": "https://localhost:8080/",
          "height": 466
        },
        "outputId": "050f6e63-51cf-441f-9882-41b18ada27c7"
      },
      "source": [
        "# Bar Chart\n",
        "sns.barplot(x='Churn',y='tenure',data=df)"
      ],
      "execution_count": 18,
      "outputs": [
        {
          "output_type": "execute_result",
          "data": {
            "text/plain": [
              "<matplotlib.axes._subplots.AxesSubplot at 0x7f9b992b2e80>"
            ]
          },
          "metadata": {
            "tags": []
          },
          "execution_count": 18
        },
        {
          "output_type": "display_data",
          "data": {
            "image/png": "[encoded data removed]",
            "text/plain": [
              "<Figure size 504x504 with 1 Axes>"
            ]
          },
          "metadata": {
            "tags": []
          }
        }
      ]
    },
    {
      "cell_type": "markdown",
      "metadata": {
        "id": "fRWVPLyOl8Z5",
        "colab_type": "text"
      },
      "source": [
        "#### Pairwise Relationship"
      ]
    },
    {
      "cell_type": "code",
      "metadata": {
        "id": "xilrUGLygpZp",
        "colab_type": "code",
        "colab": {
          "base_uri": "https://localhost:8080/",
          "height": 566
        },
        "outputId": "e6944414-b5a2-4b5c-96a5-3553b9ae9145"
      },
      "source": [
        "# Pairwise relationships\n",
        "sns.pairplot(df)"
      ],
      "execution_count": 19,
      "outputs": [
        {
          "output_type": "execute_result",
          "data": {
            "text/plain": [
              "<seaborn.axisgrid.PairGrid at 0x7f9b97a01128>"
            ]
          },
          "metadata": {
            "tags": []
          },
          "execution_count": 19
        },
        {
          "output_type": "display_data",
          "data": {
            "image/png": "[encoded data removed]",
            "text/plain": [
              "<Figure size 540x540 with 12 Axes>"
            ]
          },
          "metadata": {
            "tags": []
          }
        }
      ]
    },
    {
      "cell_type": "markdown",
      "metadata": {
        "id": "C4dbZ1rDgpZw",
        "colab_type": "text"
      },
      "source": [
        "## Data Preparation"
      ]
    },
    {
      "cell_type": "markdown",
      "metadata": {
        "id": "OFlG7JXQH_Df",
        "colab_type": "text"
      },
      "source": [
        "Data preparation is the process of cleaning and transforming raw data prior to processing and analysis."
      ]
    },
    {
      "cell_type": "markdown",
      "metadata": {
        "id": "coVtdbKZgpZw",
        "colab_type": "text"
      },
      "source": [
        "### Handling Missing Values"
      ]
    },
    {
      "cell_type": "code",
      "metadata": {
        "id": "NiUkLhrkgpZx",
        "colab_type": "code",
        "colab": {
          "base_uri": "https://localhost:8080/",
          "height": 391
        },
        "outputId": "9722638e-c5b4-4df3-87d8-10123e8fd773"
      },
      "source": [
        "# Show missing values on data\n",
        "df.isnull().sum()"
      ],
      "execution_count": 20,
      "outputs": [
        {
          "output_type": "execute_result",
          "data": {
            "text/plain": [
              "customerID           0\n",
              "gender               0\n",
              "SeniorCitizen        0\n",
              "Partner              0\n",
              "Dependents           0\n",
              "tenure               0\n",
              "PhoneService         0\n",
              "MultipleLines        0\n",
              "InternetService      0\n",
              "OnlineSecurity       0\n",
              "OnlineBackup         0\n",
              "DeviceProtection     0\n",
              "TechSupport          0\n",
              "StreamingTV          0\n",
              "StreamingMovies      0\n",
              "Contract             0\n",
              "PaperlessBilling     0\n",
              "PaymentMethod        0\n",
              "MonthlyCharges       0\n",
              "TotalCharges        11\n",
              "Churn                0\n",
              "dtype: int64"
            ]
          },
          "metadata": {
            "tags": []
          },
          "execution_count": 20
        }
      ]
    },
    {
      "cell_type": "code",
      "metadata": {
        "id": "JOu0DpPggpZz",
        "colab_type": "code",
        "colab": {}
      },
      "source": [
        "# Impute missing values with the median number\n",
        "tc_median = df[\"TotalCharges\"].median()\n",
        "df[\"TotalCharges\"].fillna(tc_median, inplace=True)"
      ],
      "execution_count": 0,
      "outputs": []
    },
    {
      "cell_type": "code",
      "metadata": {
        "id": "9v5TGOyZkrs3",
        "colab_type": "code",
        "colab": {
          "base_uri": "https://localhost:8080/",
          "height": 459
        },
        "outputId": "2bd20421-7c87-437f-c256-028bf6275513"
      },
      "source": [
        "# Show the data information to see whether the empty value has been replaced\n",
        "df.info()"
      ],
      "execution_count": 22,
      "outputs": [
        {
          "output_type": "stream",
          "text": [
            "<class 'pandas.core.frame.DataFrame'>\n",
            "RangeIndex: 7043 entries, 0 to 7042\n",
            "Data columns (total 21 columns):\n",
            "customerID          7043 non-null object\n",
            "gender              7043 non-null object\n",
            "SeniorCitizen       7043 non-null object\n",
            "Partner             7043 non-null object\n",
            "Dependents          7043 non-null object\n",
            "tenure              7043 non-null int64\n",
            "PhoneService        7043 non-null object\n",
            "MultipleLines       7043 non-null object\n",
            "InternetService     7043 non-null object\n",
            "OnlineSecurity      7043 non-null object\n",
            "OnlineBackup        7043 non-null object\n",
            "DeviceProtection    7043 non-null object\n",
            "TechSupport         7043 non-null object\n",
            "StreamingTV         7043 non-null object\n",
            "StreamingMovies     7043 non-null object\n",
            "Contract            7043 non-null object\n",
            "PaperlessBilling    7043 non-null object\n",
            "PaymentMethod       7043 non-null object\n",
            "MonthlyCharges      7043 non-null int64\n",
            "TotalCharges        7043 non-null float64\n",
            "Churn               7043 non-null object\n",
            "dtypes: float64(1), int64(2), object(18)\n",
            "memory usage: 1.1+ MB\n"
          ],
          "name": "stdout"
        }
      ]
    },
    {
      "cell_type": "markdown",
      "metadata": {
        "id": "bgTENAxMgpZ2",
        "colab_type": "text"
      },
      "source": [
        "### Encoding Categorical Variable"
      ]
    },
    {
      "cell_type": "code",
      "metadata": {
        "id": "vMxcOfbFUKvN",
        "colab_type": "code",
        "colab": {
          "base_uri": "https://localhost:8080/",
          "height": 292
        },
        "outputId": "fa5c2411-2979-42d7-9e71-f5025ad63307"
      },
      "source": [
        "# Install Category Encoders\n",
        "! pip install category_encoders"
      ],
      "execution_count": 23,
      "outputs": [
        {
          "output_type": "stream",
          "text": [
            "Collecting category_encoders\n",
            "\u001b[?25l  Downloading https://files.pythonhosted.org/packages/6e/a1/f7a22f144f33be78afeb06bfa78478e8284a64263a3c09b1ef54e673841e/category_encoders-2.0.0-py2.py3-none-any.whl (87kB)\n",
            "\u001b[K     |████████████████████████████████| 92kB 5.7MB/s \n",
            "\u001b[?25hRequirement already satisfied: patsy>=0.4.1 in /usr/local/lib/python3.6/dist-packages (from category_encoders) (0.5.1)\n",
            "Requirement already satisfied: numpy>=1.11.3 in /usr/local/lib/python3.6/dist-packages (from category_encoders) (1.16.4)\n",
            "Requirement already satisfied: pandas>=0.21.1 in /usr/local/lib/python3.6/dist-packages (from category_encoders) (0.24.2)\n",
            "Requirement already satisfied: statsmodels>=0.6.1 in /usr/local/lib/python3.6/dist-packages (from category_encoders) (0.10.1)\n",
            "Requirement already satisfied: scikit-learn>=0.20.0 in /usr/local/lib/python3.6/dist-packages (from category_encoders) (0.21.3)\n",
            "Requirement already satisfied: scipy>=0.19.0 in /usr/local/lib/python3.6/dist-packages (from category_encoders) (1.3.0)\n",
            "Requirement already satisfied: six in /usr/local/lib/python3.6/dist-packages (from patsy>=0.4.1->category_encoders) (1.12.0)\n",
            "Requirement already satisfied: python-dateutil>=2.5.0 in /usr/local/lib/python3.6/dist-packages (from pandas>=0.21.1->category_encoders) (2.5.3)\n",
            "Requirement already satisfied: pytz>=2011k in /usr/local/lib/python3.6/dist-packages (from pandas>=0.21.1->category_encoders) (2018.9)\n",
            "Requirement already satisfied: joblib>=0.11 in /usr/local/lib/python3.6/dist-packages (from scikit-learn>=0.20.0->category_encoders) (0.13.2)\n",
            "Installing collected packages: category-encoders\n",
            "Successfully installed category-encoders-2.0.0\n"
          ],
          "name": "stdout"
        }
      ]
    },
    {
      "cell_type": "code",
      "metadata": {
        "id": "PKYwGJcZTr7V",
        "colab_type": "code",
        "colab": {
          "base_uri": "https://localhost:8080/",
          "height": 309
        },
        "outputId": "3f767925-fab7-4218-d78d-be1c5bed7d30"
      },
      "source": [
        "import category_encoders as ce\n",
        "\n",
        "encoder = ce.BinaryEncoder(cols=['gender', \n",
        "          'SeniorCitizen', \n",
        "          'Partner', \n",
        "          'Dependents', \n",
        "          'PhoneService', \n",
        "          'MultipleLines', \n",
        "          'InternetService', \n",
        "          'OnlineSecurity', \n",
        "          'OnlineBackup', \n",
        "          'DeviceProtection', \n",
        "          'TechSupport', \n",
        "          'StreamingTV', \n",
        "          'StreamingMovies', \n",
        "          'Contract', \n",
        "          'PaperlessBilling', \n",
        "          'PaymentMethod'])\n",
        "df_binary = encoder.fit_transform(df)\n",
        "\n",
        "df_binary.head()"
      ],
      "execution_count": 24,
      "outputs": [
        {
          "output_type": "execute_result",
          "data": {
            "text/html": [
              "<div>\n",
              "<style scoped>\n",
              "    .dataframe tbody tr th:only-of-type {\n",
              "        vertical-align: middle;\n",
              "    }\n",
              "\n",
              "    .dataframe tbody tr th {\n",
              "        vertical-align: top;\n",
              "    }\n",
              "\n",
              "    .dataframe thead th {\n",
              "        text-align: right;\n",
              "    }\n",
              "</style>\n",
              "<table border=\"1\" class=\"dataframe\">\n",
              "  <thead>\n",
              "    <tr style=\"text-align: right;\">\n",
              "      <th></th>\n",
              "      <th>customerID</th>\n",
              "      <th>gender_0</th>\n",
              "      <th>gender_1</th>\n",
              "      <th>SeniorCitizen_0</th>\n",
              "      <th>SeniorCitizen_1</th>\n",
              "      <th>Partner_0</th>\n",
              "      <th>Partner_1</th>\n",
              "      <th>Dependents_0</th>\n",
              "      <th>Dependents_1</th>\n",
              "      <th>tenure</th>\n",
              "      <th>PhoneService_0</th>\n",
              "      <th>PhoneService_1</th>\n",
              "      <th>MultipleLines_0</th>\n",
              "      <th>MultipleLines_1</th>\n",
              "      <th>MultipleLines_2</th>\n",
              "      <th>InternetService_0</th>\n",
              "      <th>InternetService_1</th>\n",
              "      <th>InternetService_2</th>\n",
              "      <th>OnlineSecurity_0</th>\n",
              "      <th>OnlineSecurity_1</th>\n",
              "      <th>OnlineSecurity_2</th>\n",
              "      <th>OnlineBackup_0</th>\n",
              "      <th>OnlineBackup_1</th>\n",
              "      <th>OnlineBackup_2</th>\n",
              "      <th>DeviceProtection_0</th>\n",
              "      <th>DeviceProtection_1</th>\n",
              "      <th>DeviceProtection_2</th>\n",
              "      <th>TechSupport_0</th>\n",
              "      <th>TechSupport_1</th>\n",
              "      <th>TechSupport_2</th>\n",
              "      <th>StreamingTV_0</th>\n",
              "      <th>StreamingTV_1</th>\n",
              "      <th>StreamingTV_2</th>\n",
              "      <th>StreamingMovies_0</th>\n",
              "      <th>StreamingMovies_1</th>\n",
              "      <th>StreamingMovies_2</th>\n",
              "      <th>Contract_0</th>\n",
              "      <th>Contract_1</th>\n",
              "      <th>Contract_2</th>\n",
              "      <th>PaperlessBilling_0</th>\n",
              "      <th>PaperlessBilling_1</th>\n",
              "      <th>PaymentMethod_0</th>\n",
              "      <th>PaymentMethod_1</th>\n",
              "      <th>PaymentMethod_2</th>\n",
              "      <th>MonthlyCharges</th>\n",
              "      <th>TotalCharges</th>\n",
              "      <th>Churn</th>\n",
              "    </tr>\n",
              "  </thead>\n",
              "  <tbody>\n",
              "    <tr>\n",
              "      <th>0</th>\n",
              "      <td>7590-VHVEG</td>\n",
              "      <td>0</td>\n",
              "      <td>1</td>\n",
              "      <td>0</td>\n",
              "      <td>1</td>\n",
              "      <td>0</td>\n",
              "      <td>1</td>\n",
              "      <td>0</td>\n",
              "      <td>1</td>\n",
              "      <td>1</td>\n",
              "      <td>0</td>\n",
              "      <td>1</td>\n",
              "      <td>0</td>\n",
              "      <td>0</td>\n",
              "      <td>1</td>\n",
              "      <td>0</td>\n",
              "      <td>0</td>\n",
              "      <td>1</td>\n",
              "      <td>0</td>\n",
              "      <td>0</td>\n",
              "      <td>1</td>\n",
              "      <td>0</td>\n",
              "      <td>0</td>\n",
              "      <td>1</td>\n",
              "      <td>0</td>\n",
              "      <td>0</td>\n",
              "      <td>1</td>\n",
              "      <td>0</td>\n",
              "      <td>0</td>\n",
              "      <td>1</td>\n",
              "      <td>0</td>\n",
              "      <td>0</td>\n",
              "      <td>1</td>\n",
              "      <td>0</td>\n",
              "      <td>0</td>\n",
              "      <td>1</td>\n",
              "      <td>0</td>\n",
              "      <td>0</td>\n",
              "      <td>1</td>\n",
              "      <td>0</td>\n",
              "      <td>1</td>\n",
              "      <td>0</td>\n",
              "      <td>0</td>\n",
              "      <td>1</td>\n",
              "      <td>2985</td>\n",
              "      <td>2985.0</td>\n",
              "      <td>No</td>\n",
              "    </tr>\n",
              "    <tr>\n",
              "      <th>1</th>\n",
              "      <td>5575-GNVDE</td>\n",
              "      <td>1</td>\n",
              "      <td>0</td>\n",
              "      <td>0</td>\n",
              "      <td>1</td>\n",
              "      <td>1</td>\n",
              "      <td>0</td>\n",
              "      <td>0</td>\n",
              "      <td>1</td>\n",
              "      <td>34</td>\n",
              "      <td>1</td>\n",
              "      <td>0</td>\n",
              "      <td>0</td>\n",
              "      <td>1</td>\n",
              "      <td>0</td>\n",
              "      <td>0</td>\n",
              "      <td>0</td>\n",
              "      <td>1</td>\n",
              "      <td>0</td>\n",
              "      <td>1</td>\n",
              "      <td>0</td>\n",
              "      <td>0</td>\n",
              "      <td>1</td>\n",
              "      <td>0</td>\n",
              "      <td>0</td>\n",
              "      <td>1</td>\n",
              "      <td>0</td>\n",
              "      <td>0</td>\n",
              "      <td>0</td>\n",
              "      <td>1</td>\n",
              "      <td>0</td>\n",
              "      <td>0</td>\n",
              "      <td>1</td>\n",
              "      <td>0</td>\n",
              "      <td>0</td>\n",
              "      <td>1</td>\n",
              "      <td>0</td>\n",
              "      <td>1</td>\n",
              "      <td>0</td>\n",
              "      <td>1</td>\n",
              "      <td>0</td>\n",
              "      <td>0</td>\n",
              "      <td>1</td>\n",
              "      <td>0</td>\n",
              "      <td>5695</td>\n",
              "      <td>18895.0</td>\n",
              "      <td>No</td>\n",
              "    </tr>\n",
              "    <tr>\n",
              "      <th>2</th>\n",
              "      <td>3668-QPYBK</td>\n",
              "      <td>1</td>\n",
              "      <td>0</td>\n",
              "      <td>0</td>\n",
              "      <td>1</td>\n",
              "      <td>1</td>\n",
              "      <td>0</td>\n",
              "      <td>0</td>\n",
              "      <td>1</td>\n",
              "      <td>2</td>\n",
              "      <td>1</td>\n",
              "      <td>0</td>\n",
              "      <td>0</td>\n",
              "      <td>1</td>\n",
              "      <td>0</td>\n",
              "      <td>0</td>\n",
              "      <td>0</td>\n",
              "      <td>1</td>\n",
              "      <td>0</td>\n",
              "      <td>1</td>\n",
              "      <td>0</td>\n",
              "      <td>0</td>\n",
              "      <td>0</td>\n",
              "      <td>1</td>\n",
              "      <td>0</td>\n",
              "      <td>0</td>\n",
              "      <td>1</td>\n",
              "      <td>0</td>\n",
              "      <td>0</td>\n",
              "      <td>1</td>\n",
              "      <td>0</td>\n",
              "      <td>0</td>\n",
              "      <td>1</td>\n",
              "      <td>0</td>\n",
              "      <td>0</td>\n",
              "      <td>1</td>\n",
              "      <td>0</td>\n",
              "      <td>0</td>\n",
              "      <td>1</td>\n",
              "      <td>0</td>\n",
              "      <td>1</td>\n",
              "      <td>0</td>\n",
              "      <td>1</td>\n",
              "      <td>0</td>\n",
              "      <td>5385</td>\n",
              "      <td>10815.0</td>\n",
              "      <td>Yes</td>\n",
              "    </tr>\n",
              "    <tr>\n",
              "      <th>3</th>\n",
              "      <td>7795-CFOCW</td>\n",
              "      <td>1</td>\n",
              "      <td>0</td>\n",
              "      <td>0</td>\n",
              "      <td>1</td>\n",
              "      <td>1</td>\n",
              "      <td>0</td>\n",
              "      <td>0</td>\n",
              "      <td>1</td>\n",
              "      <td>45</td>\n",
              "      <td>0</td>\n",
              "      <td>1</td>\n",
              "      <td>0</td>\n",
              "      <td>0</td>\n",
              "      <td>1</td>\n",
              "      <td>0</td>\n",
              "      <td>0</td>\n",
              "      <td>1</td>\n",
              "      <td>0</td>\n",
              "      <td>1</td>\n",
              "      <td>0</td>\n",
              "      <td>0</td>\n",
              "      <td>1</td>\n",
              "      <td>0</td>\n",
              "      <td>0</td>\n",
              "      <td>1</td>\n",
              "      <td>0</td>\n",
              "      <td>0</td>\n",
              "      <td>1</td>\n",
              "      <td>0</td>\n",
              "      <td>0</td>\n",
              "      <td>0</td>\n",
              "      <td>1</td>\n",
              "      <td>0</td>\n",
              "      <td>0</td>\n",
              "      <td>1</td>\n",
              "      <td>0</td>\n",
              "      <td>1</td>\n",
              "      <td>0</td>\n",
              "      <td>1</td>\n",
              "      <td>0</td>\n",
              "      <td>0</td>\n",
              "      <td>1</td>\n",
              "      <td>1</td>\n",
              "      <td>423</td>\n",
              "      <td>184075.0</td>\n",
              "      <td>No</td>\n",
              "    </tr>\n",
              "    <tr>\n",
              "      <th>4</th>\n",
              "      <td>9237-HQITU</td>\n",
              "      <td>0</td>\n",
              "      <td>1</td>\n",
              "      <td>0</td>\n",
              "      <td>1</td>\n",
              "      <td>1</td>\n",
              "      <td>0</td>\n",
              "      <td>0</td>\n",
              "      <td>1</td>\n",
              "      <td>2</td>\n",
              "      <td>1</td>\n",
              "      <td>0</td>\n",
              "      <td>0</td>\n",
              "      <td>1</td>\n",
              "      <td>0</td>\n",
              "      <td>0</td>\n",
              "      <td>1</td>\n",
              "      <td>0</td>\n",
              "      <td>0</td>\n",
              "      <td>0</td>\n",
              "      <td>1</td>\n",
              "      <td>0</td>\n",
              "      <td>1</td>\n",
              "      <td>0</td>\n",
              "      <td>0</td>\n",
              "      <td>0</td>\n",
              "      <td>1</td>\n",
              "      <td>0</td>\n",
              "      <td>0</td>\n",
              "      <td>1</td>\n",
              "      <td>0</td>\n",
              "      <td>0</td>\n",
              "      <td>1</td>\n",
              "      <td>0</td>\n",
              "      <td>0</td>\n",
              "      <td>1</td>\n",
              "      <td>0</td>\n",
              "      <td>0</td>\n",
              "      <td>1</td>\n",
              "      <td>0</td>\n",
              "      <td>1</td>\n",
              "      <td>0</td>\n",
              "      <td>0</td>\n",
              "      <td>1</td>\n",
              "      <td>707</td>\n",
              "      <td>15165.0</td>\n",
              "      <td>Yes</td>\n",
              "    </tr>\n",
              "  </tbody>\n",
              "</table>\n",
              "</div>"
            ],
            "text/plain": [
              "   customerID  gender_0  gender_1  ...  MonthlyCharges  TotalCharges  Churn\n",
              "0  7590-VHVEG         0         1  ...            2985        2985.0     No\n",
              "1  5575-GNVDE         1         0  ...            5695       18895.0     No\n",
              "2  3668-QPYBK         1         0  ...            5385       10815.0    Yes\n",
              "3  7795-CFOCW         1         0  ...             423      184075.0     No\n",
              "4  9237-HQITU         0         1  ...             707       15165.0    Yes\n",
              "\n",
              "[5 rows x 47 columns]"
            ]
          },
          "metadata": {
            "tags": []
          },
          "execution_count": 24
        }
      ]
    },
    {
      "cell_type": "code",
      "metadata": {
        "id": "IHRoGWANUb9K",
        "colab_type": "code",
        "colab": {
          "base_uri": "https://localhost:8080/",
          "height": 901
        },
        "outputId": "a2e3d022-fd50-4388-b85e-19558f2ce7cc"
      },
      "source": [
        "df_binary.info()"
      ],
      "execution_count": 25,
      "outputs": [
        {
          "output_type": "stream",
          "text": [
            "<class 'pandas.core.frame.DataFrame'>\n",
            "RangeIndex: 7043 entries, 0 to 7042\n",
            "Data columns (total 47 columns):\n",
            "customerID            7043 non-null object\n",
            "gender_0              7043 non-null int64\n",
            "gender_1              7043 non-null int64\n",
            "SeniorCitizen_0       7043 non-null int64\n",
            "SeniorCitizen_1       7043 non-null int64\n",
            "Partner_0             7043 non-null int64\n",
            "Partner_1             7043 non-null int64\n",
            "Dependents_0          7043 non-null int64\n",
            "Dependents_1          7043 non-null int64\n",
            "tenure                7043 non-null int64\n",
            "PhoneService_0        7043 non-null int64\n",
            "PhoneService_1        7043 non-null int64\n",
            "MultipleLines_0       7043 non-null int64\n",
            "MultipleLines_1       7043 non-null int64\n",
            "MultipleLines_2       7043 non-null int64\n",
            "InternetService_0     7043 non-null int64\n",
            "InternetService_1     7043 non-null int64\n",
            "InternetService_2     7043 non-null int64\n",
            "OnlineSecurity_0      7043 non-null int64\n",
            "OnlineSecurity_1      7043 non-null int64\n",
            "OnlineSecurity_2      7043 non-null int64\n",
            "OnlineBackup_0        7043 non-null int64\n",
            "OnlineBackup_1        7043 non-null int64\n",
            "OnlineBackup_2        7043 non-null int64\n",
            "DeviceProtection_0    7043 non-null int64\n",
            "DeviceProtection_1    7043 non-null int64\n",
            "DeviceProtection_2    7043 non-null int64\n",
            "TechSupport_0         7043 non-null int64\n",
            "TechSupport_1         7043 non-null int64\n",
            "TechSupport_2         7043 non-null int64\n",
            "StreamingTV_0         7043 non-null int64\n",
            "StreamingTV_1         7043 non-null int64\n",
            "StreamingTV_2         7043 non-null int64\n",
            "StreamingMovies_0     7043 non-null int64\n",
            "StreamingMovies_1     7043 non-null int64\n",
            "StreamingMovies_2     7043 non-null int64\n",
            "Contract_0            7043 non-null int64\n",
            "Contract_1            7043 non-null int64\n",
            "Contract_2            7043 non-null int64\n",
            "PaperlessBilling_0    7043 non-null int64\n",
            "PaperlessBilling_1    7043 non-null int64\n",
            "PaymentMethod_0       7043 non-null int64\n",
            "PaymentMethod_1       7043 non-null int64\n",
            "PaymentMethod_2       7043 non-null int64\n",
            "MonthlyCharges        7043 non-null int64\n",
            "TotalCharges          7043 non-null float64\n",
            "Churn                 7043 non-null object\n",
            "dtypes: float64(1), int64(44), object(2)\n",
            "memory usage: 2.5+ MB\n"
          ],
          "name": "stdout"
        }
      ]
    },
    {
      "cell_type": "code",
      "metadata": {
        "id": "lVzIpo3agpaE",
        "colab_type": "code",
        "colab": {
          "base_uri": "https://localhost:8080/",
          "height": 224
        },
        "outputId": "4268e3b1-104e-4add-d9a2-f405a5f1cacc"
      },
      "source": [
        "df = df_binary.drop(\"customerID\", axis=1)\n",
        "df.head()"
      ],
      "execution_count": 26,
      "outputs": [
        {
          "output_type": "execute_result",
          "data": {
            "text/html": [
              "<div>\n",
              "<style scoped>\n",
              "    .dataframe tbody tr th:only-of-type {\n",
              "        vertical-align: middle;\n",
              "    }\n",
              "\n",
              "    .dataframe tbody tr th {\n",
              "        vertical-align: top;\n",
              "    }\n",
              "\n",
              "    .dataframe thead th {\n",
              "        text-align: right;\n",
              "    }\n",
              "</style>\n",
              "<table border=\"1\" class=\"dataframe\">\n",
              "  <thead>\n",
              "    <tr style=\"text-align: right;\">\n",
              "      <th></th>\n",
              "      <th>gender_0</th>\n",
              "      <th>gender_1</th>\n",
              "      <th>SeniorCitizen_0</th>\n",
              "      <th>SeniorCitizen_1</th>\n",
              "      <th>Partner_0</th>\n",
              "      <th>Partner_1</th>\n",
              "      <th>Dependents_0</th>\n",
              "      <th>Dependents_1</th>\n",
              "      <th>tenure</th>\n",
              "      <th>PhoneService_0</th>\n",
              "      <th>PhoneService_1</th>\n",
              "      <th>MultipleLines_0</th>\n",
              "      <th>MultipleLines_1</th>\n",
              "      <th>MultipleLines_2</th>\n",
              "      <th>InternetService_0</th>\n",
              "      <th>InternetService_1</th>\n",
              "      <th>InternetService_2</th>\n",
              "      <th>OnlineSecurity_0</th>\n",
              "      <th>OnlineSecurity_1</th>\n",
              "      <th>OnlineSecurity_2</th>\n",
              "      <th>OnlineBackup_0</th>\n",
              "      <th>OnlineBackup_1</th>\n",
              "      <th>OnlineBackup_2</th>\n",
              "      <th>DeviceProtection_0</th>\n",
              "      <th>DeviceProtection_1</th>\n",
              "      <th>DeviceProtection_2</th>\n",
              "      <th>TechSupport_0</th>\n",
              "      <th>TechSupport_1</th>\n",
              "      <th>TechSupport_2</th>\n",
              "      <th>StreamingTV_0</th>\n",
              "      <th>StreamingTV_1</th>\n",
              "      <th>StreamingTV_2</th>\n",
              "      <th>StreamingMovies_0</th>\n",
              "      <th>StreamingMovies_1</th>\n",
              "      <th>StreamingMovies_2</th>\n",
              "      <th>Contract_0</th>\n",
              "      <th>Contract_1</th>\n",
              "      <th>Contract_2</th>\n",
              "      <th>PaperlessBilling_0</th>\n",
              "      <th>PaperlessBilling_1</th>\n",
              "      <th>PaymentMethod_0</th>\n",
              "      <th>PaymentMethod_1</th>\n",
              "      <th>PaymentMethod_2</th>\n",
              "      <th>MonthlyCharges</th>\n",
              "      <th>TotalCharges</th>\n",
              "      <th>Churn</th>\n",
              "    </tr>\n",
              "  </thead>\n",
              "  <tbody>\n",
              "    <tr>\n",
              "      <th>0</th>\n",
              "      <td>0</td>\n",
              "      <td>1</td>\n",
              "      <td>0</td>\n",
              "      <td>1</td>\n",
              "      <td>0</td>\n",
              "      <td>1</td>\n",
              "      <td>0</td>\n",
              "      <td>1</td>\n",
              "      <td>1</td>\n",
              "      <td>0</td>\n",
              "      <td>1</td>\n",
              "      <td>0</td>\n",
              "      <td>0</td>\n",
              "      <td>1</td>\n",
              "      <td>0</td>\n",
              "      <td>0</td>\n",
              "      <td>1</td>\n",
              "      <td>0</td>\n",
              "      <td>0</td>\n",
              "      <td>1</td>\n",
              "      <td>0</td>\n",
              "      <td>0</td>\n",
              "      <td>1</td>\n",
              "      <td>0</td>\n",
              "      <td>0</td>\n",
              "      <td>1</td>\n",
              "      <td>0</td>\n",
              "      <td>0</td>\n",
              "      <td>1</td>\n",
              "      <td>0</td>\n",
              "      <td>0</td>\n",
              "      <td>1</td>\n",
              "      <td>0</td>\n",
              "      <td>0</td>\n",
              "      <td>1</td>\n",
              "      <td>0</td>\n",
              "      <td>0</td>\n",
              "      <td>1</td>\n",
              "      <td>0</td>\n",
              "      <td>1</td>\n",
              "      <td>0</td>\n",
              "      <td>0</td>\n",
              "      <td>1</td>\n",
              "      <td>2985</td>\n",
              "      <td>2985.0</td>\n",
              "      <td>No</td>\n",
              "    </tr>\n",
              "    <tr>\n",
              "      <th>1</th>\n",
              "      <td>1</td>\n",
              "      <td>0</td>\n",
              "      <td>0</td>\n",
              "      <td>1</td>\n",
              "      <td>1</td>\n",
              "      <td>0</td>\n",
              "      <td>0</td>\n",
              "      <td>1</td>\n",
              "      <td>34</td>\n",
              "      <td>1</td>\n",
              "      <td>0</td>\n",
              "      <td>0</td>\n",
              "      <td>1</td>\n",
              "      <td>0</td>\n",
              "      <td>0</td>\n",
              "      <td>0</td>\n",
              "      <td>1</td>\n",
              "      <td>0</td>\n",
              "      <td>1</td>\n",
              "      <td>0</td>\n",
              "      <td>0</td>\n",
              "      <td>1</td>\n",
              "      <td>0</td>\n",
              "      <td>0</td>\n",
              "      <td>1</td>\n",
              "      <td>0</td>\n",
              "      <td>0</td>\n",
              "      <td>0</td>\n",
              "      <td>1</td>\n",
              "      <td>0</td>\n",
              "      <td>0</td>\n",
              "      <td>1</td>\n",
              "      <td>0</td>\n",
              "      <td>0</td>\n",
              "      <td>1</td>\n",
              "      <td>0</td>\n",
              "      <td>1</td>\n",
              "      <td>0</td>\n",
              "      <td>1</td>\n",
              "      <td>0</td>\n",
              "      <td>0</td>\n",
              "      <td>1</td>\n",
              "      <td>0</td>\n",
              "      <td>5695</td>\n",
              "      <td>18895.0</td>\n",
              "      <td>No</td>\n",
              "    </tr>\n",
              "    <tr>\n",
              "      <th>2</th>\n",
              "      <td>1</td>\n",
              "      <td>0</td>\n",
              "      <td>0</td>\n",
              "      <td>1</td>\n",
              "      <td>1</td>\n",
              "      <td>0</td>\n",
              "      <td>0</td>\n",
              "      <td>1</td>\n",
              "      <td>2</td>\n",
              "      <td>1</td>\n",
              "      <td>0</td>\n",
              "      <td>0</td>\n",
              "      <td>1</td>\n",
              "      <td>0</td>\n",
              "      <td>0</td>\n",
              "      <td>0</td>\n",
              "      <td>1</td>\n",
              "      <td>0</td>\n",
              "      <td>1</td>\n",
              "      <td>0</td>\n",
              "      <td>0</td>\n",
              "      <td>0</td>\n",
              "      <td>1</td>\n",
              "      <td>0</td>\n",
              "      <td>0</td>\n",
              "      <td>1</td>\n",
              "      <td>0</td>\n",
              "      <td>0</td>\n",
              "      <td>1</td>\n",
              "      <td>0</td>\n",
              "      <td>0</td>\n",
              "      <td>1</td>\n",
              "      <td>0</td>\n",
              "      <td>0</td>\n",
              "      <td>1</td>\n",
              "      <td>0</td>\n",
              "      <td>0</td>\n",
              "      <td>1</td>\n",
              "      <td>0</td>\n",
              "      <td>1</td>\n",
              "      <td>0</td>\n",
              "      <td>1</td>\n",
              "      <td>0</td>\n",
              "      <td>5385</td>\n",
              "      <td>10815.0</td>\n",
              "      <td>Yes</td>\n",
              "    </tr>\n",
              "    <tr>\n",
              "      <th>3</th>\n",
              "      <td>1</td>\n",
              "      <td>0</td>\n",
              "      <td>0</td>\n",
              "      <td>1</td>\n",
              "      <td>1</td>\n",
              "      <td>0</td>\n",
              "      <td>0</td>\n",
              "      <td>1</td>\n",
              "      <td>45</td>\n",
              "      <td>0</td>\n",
              "      <td>1</td>\n",
              "      <td>0</td>\n",
              "      <td>0</td>\n",
              "      <td>1</td>\n",
              "      <td>0</td>\n",
              "      <td>0</td>\n",
              "      <td>1</td>\n",
              "      <td>0</td>\n",
              "      <td>1</td>\n",
              "      <td>0</td>\n",
              "      <td>0</td>\n",
              "      <td>1</td>\n",
              "      <td>0</td>\n",
              "      <td>0</td>\n",
              "      <td>1</td>\n",
              "      <td>0</td>\n",
              "      <td>0</td>\n",
              "      <td>1</td>\n",
              "      <td>0</td>\n",
              "      <td>0</td>\n",
              "      <td>0</td>\n",
              "      <td>1</td>\n",
              "      <td>0</td>\n",
              "      <td>0</td>\n",
              "      <td>1</td>\n",
              "      <td>0</td>\n",
              "      <td>1</td>\n",
              "      <td>0</td>\n",
              "      <td>1</td>\n",
              "      <td>0</td>\n",
              "      <td>0</td>\n",
              "      <td>1</td>\n",
              "      <td>1</td>\n",
              "      <td>423</td>\n",
              "      <td>184075.0</td>\n",
              "      <td>No</td>\n",
              "    </tr>\n",
              "    <tr>\n",
              "      <th>4</th>\n",
              "      <td>0</td>\n",
              "      <td>1</td>\n",
              "      <td>0</td>\n",
              "      <td>1</td>\n",
              "      <td>1</td>\n",
              "      <td>0</td>\n",
              "      <td>0</td>\n",
              "      <td>1</td>\n",
              "      <td>2</td>\n",
              "      <td>1</td>\n",
              "      <td>0</td>\n",
              "      <td>0</td>\n",
              "      <td>1</td>\n",
              "      <td>0</td>\n",
              "      <td>0</td>\n",
              "      <td>1</td>\n",
              "      <td>0</td>\n",
              "      <td>0</td>\n",
              "      <td>0</td>\n",
              "      <td>1</td>\n",
              "      <td>0</td>\n",
              "      <td>1</td>\n",
              "      <td>0</td>\n",
              "      <td>0</td>\n",
              "      <td>0</td>\n",
              "      <td>1</td>\n",
              "      <td>0</td>\n",
              "      <td>0</td>\n",
              "      <td>1</td>\n",
              "      <td>0</td>\n",
              "      <td>0</td>\n",
              "      <td>1</td>\n",
              "      <td>0</td>\n",
              "      <td>0</td>\n",
              "      <td>1</td>\n",
              "      <td>0</td>\n",
              "      <td>0</td>\n",
              "      <td>1</td>\n",
              "      <td>0</td>\n",
              "      <td>1</td>\n",
              "      <td>0</td>\n",
              "      <td>0</td>\n",
              "      <td>1</td>\n",
              "      <td>707</td>\n",
              "      <td>15165.0</td>\n",
              "      <td>Yes</td>\n",
              "    </tr>\n",
              "  </tbody>\n",
              "</table>\n",
              "</div>"
            ],
            "text/plain": [
              "   gender_0  gender_1  SeniorCitizen_0  ...  MonthlyCharges  TotalCharges  Churn\n",
              "0         0         1                0  ...            2985        2985.0     No\n",
              "1         1         0                0  ...            5695       18895.0     No\n",
              "2         1         0                0  ...            5385       10815.0    Yes\n",
              "3         1         0                0  ...             423      184075.0     No\n",
              "4         0         1                0  ...             707       15165.0    Yes\n",
              "\n",
              "[5 rows x 46 columns]"
            ]
          },
          "metadata": {
            "tags": []
          },
          "execution_count": 26
        }
      ]
    },
    {
      "cell_type": "markdown",
      "metadata": {
        "id": "kKUSKeKQgpaG",
        "colab_type": "text"
      },
      "source": [
        "### Normalization"
      ]
    },
    {
      "cell_type": "markdown",
      "metadata": {
        "id": "GnJR_YMXIvf2",
        "colab_type": "text"
      },
      "source": [
        "Normalization typically means rescales the values into a range of [0,1]"
      ]
    },
    {
      "cell_type": "code",
      "metadata": {
        "id": "wIBVK9AaYZ_-",
        "colab_type": "code",
        "colab": {
          "base_uri": "https://localhost:8080/",
          "height": 782
        },
        "outputId": "31d7056e-fe9b-48e0-d7b0-d43599554214"
      },
      "source": [
        "column_names = df.columns.tolist()\n",
        "column_names.remove('Churn')\n",
        "column_names"
      ],
      "execution_count": 32,
      "outputs": [
        {
          "output_type": "execute_result",
          "data": {
            "text/plain": [
              "['gender_0',\n",
              " 'gender_1',\n",
              " 'SeniorCitizen_0',\n",
              " 'SeniorCitizen_1',\n",
              " 'Partner_0',\n",
              " 'Partner_1',\n",
              " 'Dependents_0',\n",
              " 'Dependents_1',\n",
              " 'tenure',\n",
              " 'PhoneService_0',\n",
              " 'PhoneService_1',\n",
              " 'MultipleLines_0',\n",
              " 'MultipleLines_1',\n",
              " 'MultipleLines_2',\n",
              " 'InternetService_0',\n",
              " 'InternetService_1',\n",
              " 'InternetService_2',\n",
              " 'OnlineSecurity_0',\n",
              " 'OnlineSecurity_1',\n",
              " 'OnlineSecurity_2',\n",
              " 'OnlineBackup_0',\n",
              " 'OnlineBackup_1',\n",
              " 'OnlineBackup_2',\n",
              " 'DeviceProtection_0',\n",
              " 'DeviceProtection_1',\n",
              " 'DeviceProtection_2',\n",
              " 'TechSupport_0',\n",
              " 'TechSupport_1',\n",
              " 'TechSupport_2',\n",
              " 'StreamingTV_0',\n",
              " 'StreamingTV_1',\n",
              " 'StreamingTV_2',\n",
              " 'StreamingMovies_0',\n",
              " 'StreamingMovies_1',\n",
              " 'StreamingMovies_2',\n",
              " 'Contract_0',\n",
              " 'Contract_1',\n",
              " 'Contract_2',\n",
              " 'PaperlessBilling_0',\n",
              " 'PaperlessBilling_1',\n",
              " 'PaymentMethod_0',\n",
              " 'PaymentMethod_1',\n",
              " 'PaymentMethod_2',\n",
              " 'MonthlyCharges',\n",
              " 'TotalCharges']"
            ]
          },
          "metadata": {
            "tags": []
          },
          "execution_count": 32
        }
      ]
    },
    {
      "cell_type": "code",
      "metadata": {
        "id": "l2IFv4xogpaG",
        "colab_type": "code",
        "colab": {
          "base_uri": "https://localhost:8080/",
          "height": 224
        },
        "outputId": "462cd71c-1797-4dea-c80c-a400d1adb834"
      },
      "source": [
        "#Import MinMax Scaler\n",
        "from sklearn.preprocessing import MinMaxScaler\n",
        "\n",
        "# initialize min-max scaler\n",
        "mm_scaler = MinMaxScaler()\n",
        "df_norm = df.copy()\n",
        "\n",
        "# Transform all attributes\n",
        "df_norm[column_names] = mm_scaler.fit_transform(df_norm[column_names])\n",
        "df_norm.sort_index(inplace=True)\n",
        "df_norm.head()"
      ],
      "execution_count": 33,
      "outputs": [
        {
          "output_type": "execute_result",
          "data": {
            "text/html": [
              "<div>\n",
              "<style scoped>\n",
              "    .dataframe tbody tr th:only-of-type {\n",
              "        vertical-align: middle;\n",
              "    }\n",
              "\n",
              "    .dataframe tbody tr th {\n",
              "        vertical-align: top;\n",
              "    }\n",
              "\n",
              "    .dataframe thead th {\n",
              "        text-align: right;\n",
              "    }\n",
              "</style>\n",
              "<table border=\"1\" class=\"dataframe\">\n",
              "  <thead>\n",
              "    <tr style=\"text-align: right;\">\n",
              "      <th></th>\n",
              "      <th>gender_0</th>\n",
              "      <th>gender_1</th>\n",
              "      <th>SeniorCitizen_0</th>\n",
              "      <th>SeniorCitizen_1</th>\n",
              "      <th>Partner_0</th>\n",
              "      <th>Partner_1</th>\n",
              "      <th>Dependents_0</th>\n",
              "      <th>Dependents_1</th>\n",
              "      <th>tenure</th>\n",
              "      <th>PhoneService_0</th>\n",
              "      <th>PhoneService_1</th>\n",
              "      <th>MultipleLines_0</th>\n",
              "      <th>MultipleLines_1</th>\n",
              "      <th>MultipleLines_2</th>\n",
              "      <th>InternetService_0</th>\n",
              "      <th>InternetService_1</th>\n",
              "      <th>InternetService_2</th>\n",
              "      <th>OnlineSecurity_0</th>\n",
              "      <th>OnlineSecurity_1</th>\n",
              "      <th>OnlineSecurity_2</th>\n",
              "      <th>OnlineBackup_0</th>\n",
              "      <th>OnlineBackup_1</th>\n",
              "      <th>OnlineBackup_2</th>\n",
              "      <th>DeviceProtection_0</th>\n",
              "      <th>DeviceProtection_1</th>\n",
              "      <th>DeviceProtection_2</th>\n",
              "      <th>TechSupport_0</th>\n",
              "      <th>TechSupport_1</th>\n",
              "      <th>TechSupport_2</th>\n",
              "      <th>StreamingTV_0</th>\n",
              "      <th>StreamingTV_1</th>\n",
              "      <th>StreamingTV_2</th>\n",
              "      <th>StreamingMovies_0</th>\n",
              "      <th>StreamingMovies_1</th>\n",
              "      <th>StreamingMovies_2</th>\n",
              "      <th>Contract_0</th>\n",
              "      <th>Contract_1</th>\n",
              "      <th>Contract_2</th>\n",
              "      <th>PaperlessBilling_0</th>\n",
              "      <th>PaperlessBilling_1</th>\n",
              "      <th>PaymentMethod_0</th>\n",
              "      <th>PaymentMethod_1</th>\n",
              "      <th>PaymentMethod_2</th>\n",
              "      <th>MonthlyCharges</th>\n",
              "      <th>TotalCharges</th>\n",
              "      <th>Churn</th>\n",
              "    </tr>\n",
              "  </thead>\n",
              "  <tbody>\n",
              "    <tr>\n",
              "      <th>0</th>\n",
              "      <td>0.0</td>\n",
              "      <td>1.0</td>\n",
              "      <td>0.0</td>\n",
              "      <td>1.0</td>\n",
              "      <td>0.0</td>\n",
              "      <td>1.0</td>\n",
              "      <td>0.0</td>\n",
              "      <td>1.0</td>\n",
              "      <td>0.013889</td>\n",
              "      <td>0.0</td>\n",
              "      <td>1.0</td>\n",
              "      <td>0.0</td>\n",
              "      <td>0.0</td>\n",
              "      <td>1.0</td>\n",
              "      <td>0.0</td>\n",
              "      <td>0.0</td>\n",
              "      <td>1.0</td>\n",
              "      <td>0.0</td>\n",
              "      <td>0.0</td>\n",
              "      <td>1.0</td>\n",
              "      <td>0.0</td>\n",
              "      <td>0.0</td>\n",
              "      <td>1.0</td>\n",
              "      <td>0.0</td>\n",
              "      <td>0.0</td>\n",
              "      <td>1.0</td>\n",
              "      <td>0.0</td>\n",
              "      <td>0.0</td>\n",
              "      <td>1.0</td>\n",
              "      <td>0.0</td>\n",
              "      <td>0.0</td>\n",
              "      <td>1.0</td>\n",
              "      <td>0.0</td>\n",
              "      <td>0.0</td>\n",
              "      <td>1.0</td>\n",
              "      <td>0.0</td>\n",
              "      <td>0.0</td>\n",
              "      <td>1.0</td>\n",
              "      <td>0.0</td>\n",
              "      <td>1.0</td>\n",
              "      <td>0.0</td>\n",
              "      <td>0.0</td>\n",
              "      <td>1.0</td>\n",
              "      <td>0.250169</td>\n",
              "      <td>0.003420</td>\n",
              "      <td>No</td>\n",
              "    </tr>\n",
              "    <tr>\n",
              "      <th>1</th>\n",
              "      <td>1.0</td>\n",
              "      <td>0.0</td>\n",
              "      <td>0.0</td>\n",
              "      <td>1.0</td>\n",
              "      <td>1.0</td>\n",
              "      <td>0.0</td>\n",
              "      <td>0.0</td>\n",
              "      <td>1.0</td>\n",
              "      <td>0.472222</td>\n",
              "      <td>1.0</td>\n",
              "      <td>0.0</td>\n",
              "      <td>0.0</td>\n",
              "      <td>1.0</td>\n",
              "      <td>0.0</td>\n",
              "      <td>0.0</td>\n",
              "      <td>0.0</td>\n",
              "      <td>1.0</td>\n",
              "      <td>0.0</td>\n",
              "      <td>1.0</td>\n",
              "      <td>0.0</td>\n",
              "      <td>0.0</td>\n",
              "      <td>1.0</td>\n",
              "      <td>0.0</td>\n",
              "      <td>0.0</td>\n",
              "      <td>1.0</td>\n",
              "      <td>0.0</td>\n",
              "      <td>0.0</td>\n",
              "      <td>0.0</td>\n",
              "      <td>1.0</td>\n",
              "      <td>0.0</td>\n",
              "      <td>0.0</td>\n",
              "      <td>1.0</td>\n",
              "      <td>0.0</td>\n",
              "      <td>0.0</td>\n",
              "      <td>1.0</td>\n",
              "      <td>0.0</td>\n",
              "      <td>1.0</td>\n",
              "      <td>0.0</td>\n",
              "      <td>1.0</td>\n",
              "      <td>0.0</td>\n",
              "      <td>0.0</td>\n",
              "      <td>1.0</td>\n",
              "      <td>0.0</td>\n",
              "      <td>0.478745</td>\n",
              "      <td>0.021766</td>\n",
              "      <td>No</td>\n",
              "    </tr>\n",
              "    <tr>\n",
              "      <th>2</th>\n",
              "      <td>1.0</td>\n",
              "      <td>0.0</td>\n",
              "      <td>0.0</td>\n",
              "      <td>1.0</td>\n",
              "      <td>1.0</td>\n",
              "      <td>0.0</td>\n",
              "      <td>0.0</td>\n",
              "      <td>1.0</td>\n",
              "      <td>0.027778</td>\n",
              "      <td>1.0</td>\n",
              "      <td>0.0</td>\n",
              "      <td>0.0</td>\n",
              "      <td>1.0</td>\n",
              "      <td>0.0</td>\n",
              "      <td>0.0</td>\n",
              "      <td>0.0</td>\n",
              "      <td>1.0</td>\n",
              "      <td>0.0</td>\n",
              "      <td>1.0</td>\n",
              "      <td>0.0</td>\n",
              "      <td>0.0</td>\n",
              "      <td>0.0</td>\n",
              "      <td>1.0</td>\n",
              "      <td>0.0</td>\n",
              "      <td>0.0</td>\n",
              "      <td>1.0</td>\n",
              "      <td>0.0</td>\n",
              "      <td>0.0</td>\n",
              "      <td>1.0</td>\n",
              "      <td>0.0</td>\n",
              "      <td>0.0</td>\n",
              "      <td>1.0</td>\n",
              "      <td>0.0</td>\n",
              "      <td>0.0</td>\n",
              "      <td>1.0</td>\n",
              "      <td>0.0</td>\n",
              "      <td>0.0</td>\n",
              "      <td>1.0</td>\n",
              "      <td>0.0</td>\n",
              "      <td>1.0</td>\n",
              "      <td>0.0</td>\n",
              "      <td>1.0</td>\n",
              "      <td>0.0</td>\n",
              "      <td>0.452598</td>\n",
              "      <td>0.012449</td>\n",
              "      <td>Yes</td>\n",
              "    </tr>\n",
              "    <tr>\n",
              "      <th>3</th>\n",
              "      <td>1.0</td>\n",
              "      <td>0.0</td>\n",
              "      <td>0.0</td>\n",
              "      <td>1.0</td>\n",
              "      <td>1.0</td>\n",
              "      <td>0.0</td>\n",
              "      <td>0.0</td>\n",
              "      <td>1.0</td>\n",
              "      <td>0.625000</td>\n",
              "      <td>0.0</td>\n",
              "      <td>1.0</td>\n",
              "      <td>0.0</td>\n",
              "      <td>0.0</td>\n",
              "      <td>1.0</td>\n",
              "      <td>0.0</td>\n",
              "      <td>0.0</td>\n",
              "      <td>1.0</td>\n",
              "      <td>0.0</td>\n",
              "      <td>1.0</td>\n",
              "      <td>0.0</td>\n",
              "      <td>0.0</td>\n",
              "      <td>1.0</td>\n",
              "      <td>0.0</td>\n",
              "      <td>0.0</td>\n",
              "      <td>1.0</td>\n",
              "      <td>0.0</td>\n",
              "      <td>0.0</td>\n",
              "      <td>1.0</td>\n",
              "      <td>0.0</td>\n",
              "      <td>0.0</td>\n",
              "      <td>0.0</td>\n",
              "      <td>1.0</td>\n",
              "      <td>0.0</td>\n",
              "      <td>0.0</td>\n",
              "      <td>1.0</td>\n",
              "      <td>0.0</td>\n",
              "      <td>1.0</td>\n",
              "      <td>0.0</td>\n",
              "      <td>1.0</td>\n",
              "      <td>0.0</td>\n",
              "      <td>0.0</td>\n",
              "      <td>1.0</td>\n",
              "      <td>1.0</td>\n",
              "      <td>0.034076</td>\n",
              "      <td>0.212235</td>\n",
              "      <td>No</td>\n",
              "    </tr>\n",
              "    <tr>\n",
              "      <th>4</th>\n",
              "      <td>0.0</td>\n",
              "      <td>1.0</td>\n",
              "      <td>0.0</td>\n",
              "      <td>1.0</td>\n",
              "      <td>1.0</td>\n",
              "      <td>0.0</td>\n",
              "      <td>0.0</td>\n",
              "      <td>1.0</td>\n",
              "      <td>0.027778</td>\n",
              "      <td>1.0</td>\n",
              "      <td>0.0</td>\n",
              "      <td>0.0</td>\n",
              "      <td>1.0</td>\n",
              "      <td>0.0</td>\n",
              "      <td>0.0</td>\n",
              "      <td>1.0</td>\n",
              "      <td>0.0</td>\n",
              "      <td>0.0</td>\n",
              "      <td>0.0</td>\n",
              "      <td>1.0</td>\n",
              "      <td>0.0</td>\n",
              "      <td>1.0</td>\n",
              "      <td>0.0</td>\n",
              "      <td>0.0</td>\n",
              "      <td>0.0</td>\n",
              "      <td>1.0</td>\n",
              "      <td>0.0</td>\n",
              "      <td>0.0</td>\n",
              "      <td>1.0</td>\n",
              "      <td>0.0</td>\n",
              "      <td>0.0</td>\n",
              "      <td>1.0</td>\n",
              "      <td>0.0</td>\n",
              "      <td>0.0</td>\n",
              "      <td>1.0</td>\n",
              "      <td>0.0</td>\n",
              "      <td>0.0</td>\n",
              "      <td>1.0</td>\n",
              "      <td>0.0</td>\n",
              "      <td>1.0</td>\n",
              "      <td>0.0</td>\n",
              "      <td>0.0</td>\n",
              "      <td>1.0</td>\n",
              "      <td>0.058030</td>\n",
              "      <td>0.017465</td>\n",
              "      <td>Yes</td>\n",
              "    </tr>\n",
              "  </tbody>\n",
              "</table>\n",
              "</div>"
            ],
            "text/plain": [
              "   gender_0  gender_1  SeniorCitizen_0  ...  MonthlyCharges  TotalCharges  Churn\n",
              "0       0.0       1.0              0.0  ...        0.250169      0.003420     No\n",
              "1       1.0       0.0              0.0  ...        0.478745      0.021766     No\n",
              "2       1.0       0.0              0.0  ...        0.452598      0.012449    Yes\n",
              "3       1.0       0.0              0.0  ...        0.034076      0.212235     No\n",
              "4       0.0       1.0              0.0  ...        0.058030      0.017465    Yes\n",
              "\n",
              "[5 rows x 46 columns]"
            ]
          },
          "metadata": {
            "tags": []
          },
          "execution_count": 33
        }
      ]
    },
    {
      "cell_type": "markdown",
      "metadata": {
        "id": "yScFsnHGgpaI",
        "colab_type": "text"
      },
      "source": [
        "### Standarization"
      ]
    },
    {
      "cell_type": "markdown",
      "metadata": {
        "id": "AsYTTrjyIyrl",
        "colab_type": "text"
      },
      "source": [
        "Standardization typically means rescales data to have a mean of 0 and a standard deviation of 1 (unit variance)."
      ]
    },
    {
      "cell_type": "code",
      "metadata": {
        "id": "TRZPxQT5gpaI",
        "colab_type": "code",
        "colab": {
          "base_uri": "https://localhost:8080/",
          "height": 224
        },
        "outputId": "6ba01f3c-45a2-4cec-fa01-9a05b25b50eb"
      },
      "source": [
        "# Import Standard Scaler\n",
        "from sklearn.preprocessing import StandardScaler\n",
        "\n",
        "# Initizalize Standard Scaler\n",
        "standard_scaler = StandardScaler()\n",
        "df_stand = df.copy()\n",
        "\n",
        "# Transform all attributes\n",
        "df_stand[column_names] = standard_scaler.fit_transform(df_stand[column_names])\n",
        "df_stand.sort_index(inplace=True)\n",
        "df_stand.head()"
      ],
      "execution_count": 34,
      "outputs": [
        {
          "output_type": "execute_result",
          "data": {
            "text/html": [
              "<div>\n",
              "<style scoped>\n",
              "    .dataframe tbody tr th:only-of-type {\n",
              "        vertical-align: middle;\n",
              "    }\n",
              "\n",
              "    .dataframe tbody tr th {\n",
              "        vertical-align: top;\n",
              "    }\n",
              "\n",
              "    .dataframe thead th {\n",
              "        text-align: right;\n",
              "    }\n",
              "</style>\n",
              "<table border=\"1\" class=\"dataframe\">\n",
              "  <thead>\n",
              "    <tr style=\"text-align: right;\">\n",
              "      <th></th>\n",
              "      <th>gender_0</th>\n",
              "      <th>gender_1</th>\n",
              "      <th>SeniorCitizen_0</th>\n",
              "      <th>SeniorCitizen_1</th>\n",
              "      <th>Partner_0</th>\n",
              "      <th>Partner_1</th>\n",
              "      <th>Dependents_0</th>\n",
              "      <th>Dependents_1</th>\n",
              "      <th>tenure</th>\n",
              "      <th>PhoneService_0</th>\n",
              "      <th>PhoneService_1</th>\n",
              "      <th>MultipleLines_0</th>\n",
              "      <th>MultipleLines_1</th>\n",
              "      <th>MultipleLines_2</th>\n",
              "      <th>InternetService_0</th>\n",
              "      <th>InternetService_1</th>\n",
              "      <th>InternetService_2</th>\n",
              "      <th>OnlineSecurity_0</th>\n",
              "      <th>OnlineSecurity_1</th>\n",
              "      <th>OnlineSecurity_2</th>\n",
              "      <th>OnlineBackup_0</th>\n",
              "      <th>OnlineBackup_1</th>\n",
              "      <th>OnlineBackup_2</th>\n",
              "      <th>DeviceProtection_0</th>\n",
              "      <th>DeviceProtection_1</th>\n",
              "      <th>DeviceProtection_2</th>\n",
              "      <th>TechSupport_0</th>\n",
              "      <th>TechSupport_1</th>\n",
              "      <th>TechSupport_2</th>\n",
              "      <th>StreamingTV_0</th>\n",
              "      <th>StreamingTV_1</th>\n",
              "      <th>StreamingTV_2</th>\n",
              "      <th>StreamingMovies_0</th>\n",
              "      <th>StreamingMovies_1</th>\n",
              "      <th>StreamingMovies_2</th>\n",
              "      <th>Contract_0</th>\n",
              "      <th>Contract_1</th>\n",
              "      <th>Contract_2</th>\n",
              "      <th>PaperlessBilling_0</th>\n",
              "      <th>PaperlessBilling_1</th>\n",
              "      <th>PaymentMethod_0</th>\n",
              "      <th>PaymentMethod_1</th>\n",
              "      <th>PaymentMethod_2</th>\n",
              "      <th>MonthlyCharges</th>\n",
              "      <th>TotalCharges</th>\n",
              "      <th>Churn</th>\n",
              "    </tr>\n",
              "  </thead>\n",
              "  <tbody>\n",
              "    <tr>\n",
              "      <th>0</th>\n",
              "      <td>-1.009559</td>\n",
              "      <td>1.009559</td>\n",
              "      <td>-0.439916</td>\n",
              "      <td>0.439916</td>\n",
              "      <td>-1.034530</td>\n",
              "      <td>1.034530</td>\n",
              "      <td>-0.654012</td>\n",
              "      <td>0.654012</td>\n",
              "      <td>-1.277445</td>\n",
              "      <td>-3.054010</td>\n",
              "      <td>3.054010</td>\n",
              "      <td>0.0</td>\n",
              "      <td>-3.054010</td>\n",
              "      <td>0.963330</td>\n",
              "      <td>0.0</td>\n",
              "      <td>-1.381712</td>\n",
              "      <td>0.885660</td>\n",
              "      <td>0.0</td>\n",
              "      <td>-1.006696</td>\n",
              "      <td>0.633933</td>\n",
              "      <td>0.0</td>\n",
              "      <td>-1.378241</td>\n",
              "      <td>0.883620</td>\n",
              "      <td>0.0</td>\n",
              "      <td>-1.129427</td>\n",
              "      <td>0.723968</td>\n",
              "      <td>0.0</td>\n",
              "      <td>-1.013869</td>\n",
              "      <td>0.639439</td>\n",
              "      <td>0.0</td>\n",
              "      <td>-1.227357</td>\n",
              "      <td>0.790132</td>\n",
              "      <td>0.0</td>\n",
              "      <td>-1.236489</td>\n",
              "      <td>0.79607</td>\n",
              "      <td>0.0</td>\n",
              "      <td>-0.904184</td>\n",
              "      <td>0.514249</td>\n",
              "      <td>-0.829798</td>\n",
              "      <td>0.829798</td>\n",
              "      <td>-0.525047</td>\n",
              "      <td>-0.901076</td>\n",
              "      <td>0.895399</td>\n",
              "      <td>-0.146486</td>\n",
              "      <td>-0.639983</td>\n",
              "      <td>No</td>\n",
              "    </tr>\n",
              "    <tr>\n",
              "      <th>1</th>\n",
              "      <td>0.990532</td>\n",
              "      <td>-0.990532</td>\n",
              "      <td>-0.439916</td>\n",
              "      <td>0.439916</td>\n",
              "      <td>0.966622</td>\n",
              "      <td>-0.966622</td>\n",
              "      <td>-0.654012</td>\n",
              "      <td>0.654012</td>\n",
              "      <td>0.066327</td>\n",
              "      <td>0.327438</td>\n",
              "      <td>-0.327438</td>\n",
              "      <td>0.0</td>\n",
              "      <td>0.327438</td>\n",
              "      <td>-1.038066</td>\n",
              "      <td>0.0</td>\n",
              "      <td>-1.381712</td>\n",
              "      <td>0.885660</td>\n",
              "      <td>0.0</td>\n",
              "      <td>0.993349</td>\n",
              "      <td>-1.577454</td>\n",
              "      <td>0.0</td>\n",
              "      <td>0.725563</td>\n",
              "      <td>-1.131709</td>\n",
              "      <td>0.0</td>\n",
              "      <td>0.885405</td>\n",
              "      <td>-1.381277</td>\n",
              "      <td>0.0</td>\n",
              "      <td>-1.013869</td>\n",
              "      <td>0.639439</td>\n",
              "      <td>0.0</td>\n",
              "      <td>-1.227357</td>\n",
              "      <td>0.790132</td>\n",
              "      <td>0.0</td>\n",
              "      <td>-1.236489</td>\n",
              "      <td>0.79607</td>\n",
              "      <td>0.0</td>\n",
              "      <td>1.105970</td>\n",
              "      <td>-1.944582</td>\n",
              "      <td>1.205113</td>\n",
              "      <td>-1.205113</td>\n",
              "      <td>-0.525047</td>\n",
              "      <td>1.109785</td>\n",
              "      <td>-1.116820</td>\n",
              "      <td>0.599097</td>\n",
              "      <td>-0.557287</td>\n",
              "      <td>No</td>\n",
              "    </tr>\n",
              "    <tr>\n",
              "      <th>2</th>\n",
              "      <td>0.990532</td>\n",
              "      <td>-0.990532</td>\n",
              "      <td>-0.439916</td>\n",
              "      <td>0.439916</td>\n",
              "      <td>0.966622</td>\n",
              "      <td>-0.966622</td>\n",
              "      <td>-0.654012</td>\n",
              "      <td>0.654012</td>\n",
              "      <td>-1.236724</td>\n",
              "      <td>0.327438</td>\n",
              "      <td>-0.327438</td>\n",
              "      <td>0.0</td>\n",
              "      <td>0.327438</td>\n",
              "      <td>-1.038066</td>\n",
              "      <td>0.0</td>\n",
              "      <td>-1.381712</td>\n",
              "      <td>0.885660</td>\n",
              "      <td>0.0</td>\n",
              "      <td>0.993349</td>\n",
              "      <td>-1.577454</td>\n",
              "      <td>0.0</td>\n",
              "      <td>-1.378241</td>\n",
              "      <td>0.883620</td>\n",
              "      <td>0.0</td>\n",
              "      <td>-1.129427</td>\n",
              "      <td>0.723968</td>\n",
              "      <td>0.0</td>\n",
              "      <td>-1.013869</td>\n",
              "      <td>0.639439</td>\n",
              "      <td>0.0</td>\n",
              "      <td>-1.227357</td>\n",
              "      <td>0.790132</td>\n",
              "      <td>0.0</td>\n",
              "      <td>-1.236489</td>\n",
              "      <td>0.79607</td>\n",
              "      <td>0.0</td>\n",
              "      <td>-0.904184</td>\n",
              "      <td>0.514249</td>\n",
              "      <td>-0.829798</td>\n",
              "      <td>0.829798</td>\n",
              "      <td>-0.525047</td>\n",
              "      <td>1.109785</td>\n",
              "      <td>-1.116820</td>\n",
              "      <td>0.513809</td>\n",
              "      <td>-0.599284</td>\n",
              "      <td>Yes</td>\n",
              "    </tr>\n",
              "    <tr>\n",
              "      <th>3</th>\n",
              "      <td>0.990532</td>\n",
              "      <td>-0.990532</td>\n",
              "      <td>-0.439916</td>\n",
              "      <td>0.439916</td>\n",
              "      <td>0.966622</td>\n",
              "      <td>-0.966622</td>\n",
              "      <td>-0.654012</td>\n",
              "      <td>0.654012</td>\n",
              "      <td>0.514251</td>\n",
              "      <td>-3.054010</td>\n",
              "      <td>3.054010</td>\n",
              "      <td>0.0</td>\n",
              "      <td>-3.054010</td>\n",
              "      <td>0.963330</td>\n",
              "      <td>0.0</td>\n",
              "      <td>-1.381712</td>\n",
              "      <td>0.885660</td>\n",
              "      <td>0.0</td>\n",
              "      <td>0.993349</td>\n",
              "      <td>-1.577454</td>\n",
              "      <td>0.0</td>\n",
              "      <td>0.725563</td>\n",
              "      <td>-1.131709</td>\n",
              "      <td>0.0</td>\n",
              "      <td>0.885405</td>\n",
              "      <td>-1.381277</td>\n",
              "      <td>0.0</td>\n",
              "      <td>0.986321</td>\n",
              "      <td>-1.563872</td>\n",
              "      <td>0.0</td>\n",
              "      <td>-1.227357</td>\n",
              "      <td>0.790132</td>\n",
              "      <td>0.0</td>\n",
              "      <td>-1.236489</td>\n",
              "      <td>0.79607</td>\n",
              "      <td>0.0</td>\n",
              "      <td>1.105970</td>\n",
              "      <td>-1.944582</td>\n",
              "      <td>1.205113</td>\n",
              "      <td>-1.205113</td>\n",
              "      <td>-0.525047</td>\n",
              "      <td>1.109785</td>\n",
              "      <td>0.895399</td>\n",
              "      <td>-0.851351</td>\n",
              "      <td>0.301276</td>\n",
              "      <td>No</td>\n",
              "    </tr>\n",
              "    <tr>\n",
              "      <th>4</th>\n",
              "      <td>-1.009559</td>\n",
              "      <td>1.009559</td>\n",
              "      <td>-0.439916</td>\n",
              "      <td>0.439916</td>\n",
              "      <td>0.966622</td>\n",
              "      <td>-0.966622</td>\n",
              "      <td>-0.654012</td>\n",
              "      <td>0.654012</td>\n",
              "      <td>-1.236724</td>\n",
              "      <td>0.327438</td>\n",
              "      <td>-0.327438</td>\n",
              "      <td>0.0</td>\n",
              "      <td>0.327438</td>\n",
              "      <td>-1.038066</td>\n",
              "      <td>0.0</td>\n",
              "      <td>0.723740</td>\n",
              "      <td>-1.129102</td>\n",
              "      <td>0.0</td>\n",
              "      <td>-1.006696</td>\n",
              "      <td>0.633933</td>\n",
              "      <td>0.0</td>\n",
              "      <td>0.725563</td>\n",
              "      <td>-1.131709</td>\n",
              "      <td>0.0</td>\n",
              "      <td>-1.129427</td>\n",
              "      <td>0.723968</td>\n",
              "      <td>0.0</td>\n",
              "      <td>-1.013869</td>\n",
              "      <td>0.639439</td>\n",
              "      <td>0.0</td>\n",
              "      <td>-1.227357</td>\n",
              "      <td>0.790132</td>\n",
              "      <td>0.0</td>\n",
              "      <td>-1.236489</td>\n",
              "      <td>0.79607</td>\n",
              "      <td>0.0</td>\n",
              "      <td>-0.904184</td>\n",
              "      <td>0.514249</td>\n",
              "      <td>-0.829798</td>\n",
              "      <td>0.829798</td>\n",
              "      <td>-0.525047</td>\n",
              "      <td>-0.901076</td>\n",
              "      <td>0.895399</td>\n",
              "      <td>-0.773216</td>\n",
              "      <td>-0.576674</td>\n",
              "      <td>Yes</td>\n",
              "    </tr>\n",
              "  </tbody>\n",
              "</table>\n",
              "</div>"
            ],
            "text/plain": [
              "   gender_0  gender_1  SeniorCitizen_0  ...  MonthlyCharges  TotalCharges  Churn\n",
              "0 -1.009559  1.009559        -0.439916  ...       -0.146486     -0.639983     No\n",
              "1  0.990532 -0.990532        -0.439916  ...        0.599097     -0.557287     No\n",
              "2  0.990532 -0.990532        -0.439916  ...        0.513809     -0.599284    Yes\n",
              "3  0.990532 -0.990532        -0.439916  ...       -0.851351      0.301276     No\n",
              "4 -1.009559  1.009559        -0.439916  ...       -0.773216     -0.576674    Yes\n",
              "\n",
              "[5 rows x 46 columns]"
            ]
          },
          "metadata": {
            "tags": []
          },
          "execution_count": 34
        }
      ]
    },
    {
      "cell_type": "markdown",
      "metadata": {
        "id": "WG1a0WoZgpaN",
        "colab_type": "text"
      },
      "source": [
        "## Dimensionality Reduction"
      ]
    },
    {
      "cell_type": "markdown",
      "metadata": {
        "id": "70ltsg6GgpaO",
        "colab_type": "text"
      },
      "source": [
        "### Principal Component Analysis"
      ]
    },
    {
      "cell_type": "code",
      "metadata": {
        "id": "tin6C331gpaO",
        "colab_type": "code",
        "colab": {
          "base_uri": "https://localhost:8080/",
          "height": 258
        },
        "outputId": "a55f9c5e-0d1c-4fda-e275-2f713791c52f"
      },
      "source": [
        "# Here we are using inbuilt dataset of scikit learn \n",
        "from sklearn.datasets import load_breast_cancer \n",
        "  \n",
        "# instantiating \n",
        "cancer = load_breast_cancer() \n",
        "  \n",
        "# creating dataframe \n",
        "df_pca = pd.DataFrame(cancer['data'], columns = cancer['feature_names']) \n",
        "  \n",
        "# checking head of dataframe \n",
        "df_pca.head() "
      ],
      "execution_count": 35,
      "outputs": [
        {
          "output_type": "execute_result",
          "data": {
            "text/html": [
              "<div>\n",
              "<style scoped>\n",
              "    .dataframe tbody tr th:only-of-type {\n",
              "        vertical-align: middle;\n",
              "    }\n",
              "\n",
              "    .dataframe tbody tr th {\n",
              "        vertical-align: top;\n",
              "    }\n",
              "\n",
              "    .dataframe thead th {\n",
              "        text-align: right;\n",
              "    }\n",
              "</style>\n",
              "<table border=\"1\" class=\"dataframe\">\n",
              "  <thead>\n",
              "    <tr style=\"text-align: right;\">\n",
              "      <th></th>\n",
              "      <th>mean radius</th>\n",
              "      <th>mean texture</th>\n",
              "      <th>mean perimeter</th>\n",
              "      <th>mean area</th>\n",
              "      <th>mean smoothness</th>\n",
              "      <th>mean compactness</th>\n",
              "      <th>mean concavity</th>\n",
              "      <th>mean concave points</th>\n",
              "      <th>mean symmetry</th>\n",
              "      <th>mean fractal dimension</th>\n",
              "      <th>radius error</th>\n",
              "      <th>texture error</th>\n",
              "      <th>perimeter error</th>\n",
              "      <th>area error</th>\n",
              "      <th>smoothness error</th>\n",
              "      <th>compactness error</th>\n",
              "      <th>concavity error</th>\n",
              "      <th>concave points error</th>\n",
              "      <th>symmetry error</th>\n",
              "      <th>fractal dimension error</th>\n",
              "      <th>worst radius</th>\n",
              "      <th>worst texture</th>\n",
              "      <th>worst perimeter</th>\n",
              "      <th>worst area</th>\n",
              "      <th>worst smoothness</th>\n",
              "      <th>worst compactness</th>\n",
              "      <th>worst concavity</th>\n",
              "      <th>worst concave points</th>\n",
              "      <th>worst symmetry</th>\n",
              "      <th>worst fractal dimension</th>\n",
              "    </tr>\n",
              "  </thead>\n",
              "  <tbody>\n",
              "    <tr>\n",
              "      <th>0</th>\n",
              "      <td>17.99</td>\n",
              "      <td>10.38</td>\n",
              "      <td>122.80</td>\n",
              "      <td>1001.0</td>\n",
              "      <td>0.11840</td>\n",
              "      <td>0.27760</td>\n",
              "      <td>0.3001</td>\n",
              "      <td>0.14710</td>\n",
              "      <td>0.2419</td>\n",
              "      <td>0.07871</td>\n",
              "      <td>1.0950</td>\n",
              "      <td>0.9053</td>\n",
              "      <td>8.589</td>\n",
              "      <td>153.40</td>\n",
              "      <td>0.006399</td>\n",
              "      <td>0.04904</td>\n",
              "      <td>0.05373</td>\n",
              "      <td>0.01587</td>\n",
              "      <td>0.03003</td>\n",
              "      <td>0.006193</td>\n",
              "      <td>25.38</td>\n",
              "      <td>17.33</td>\n",
              "      <td>184.60</td>\n",
              "      <td>2019.0</td>\n",
              "      <td>0.1622</td>\n",
              "      <td>0.6656</td>\n",
              "      <td>0.7119</td>\n",
              "      <td>0.2654</td>\n",
              "      <td>0.4601</td>\n",
              "      <td>0.11890</td>\n",
              "    </tr>\n",
              "    <tr>\n",
              "      <th>1</th>\n",
              "      <td>20.57</td>\n",
              "      <td>17.77</td>\n",
              "      <td>132.90</td>\n",
              "      <td>1326.0</td>\n",
              "      <td>0.08474</td>\n",
              "      <td>0.07864</td>\n",
              "      <td>0.0869</td>\n",
              "      <td>0.07017</td>\n",
              "      <td>0.1812</td>\n",
              "      <td>0.05667</td>\n",
              "      <td>0.5435</td>\n",
              "      <td>0.7339</td>\n",
              "      <td>3.398</td>\n",
              "      <td>74.08</td>\n",
              "      <td>0.005225</td>\n",
              "      <td>0.01308</td>\n",
              "      <td>0.01860</td>\n",
              "      <td>0.01340</td>\n",
              "      <td>0.01389</td>\n",
              "      <td>0.003532</td>\n",
              "      <td>24.99</td>\n",
              "      <td>23.41</td>\n",
              "      <td>158.80</td>\n",
              "      <td>1956.0</td>\n",
              "      <td>0.1238</td>\n",
              "      <td>0.1866</td>\n",
              "      <td>0.2416</td>\n",
              "      <td>0.1860</td>\n",
              "      <td>0.2750</td>\n",
              "      <td>0.08902</td>\n",
              "    </tr>\n",
              "    <tr>\n",
              "      <th>2</th>\n",
              "      <td>19.69</td>\n",
              "      <td>21.25</td>\n",
              "      <td>130.00</td>\n",
              "      <td>1203.0</td>\n",
              "      <td>0.10960</td>\n",
              "      <td>0.15990</td>\n",
              "      <td>0.1974</td>\n",
              "      <td>0.12790</td>\n",
              "      <td>0.2069</td>\n",
              "      <td>0.05999</td>\n",
              "      <td>0.7456</td>\n",
              "      <td>0.7869</td>\n",
              "      <td>4.585</td>\n",
              "      <td>94.03</td>\n",
              "      <td>0.006150</td>\n",
              "      <td>0.04006</td>\n",
              "      <td>0.03832</td>\n",
              "      <td>0.02058</td>\n",
              "      <td>0.02250</td>\n",
              "      <td>0.004571</td>\n",
              "      <td>23.57</td>\n",
              "      <td>25.53</td>\n",
              "      <td>152.50</td>\n",
              "      <td>1709.0</td>\n",
              "      <td>0.1444</td>\n",
              "      <td>0.4245</td>\n",
              "      <td>0.4504</td>\n",
              "      <td>0.2430</td>\n",
              "      <td>0.3613</td>\n",
              "      <td>0.08758</td>\n",
              "    </tr>\n",
              "    <tr>\n",
              "      <th>3</th>\n",
              "      <td>11.42</td>\n",
              "      <td>20.38</td>\n",
              "      <td>77.58</td>\n",
              "      <td>386.1</td>\n",
              "      <td>0.14250</td>\n",
              "      <td>0.28390</td>\n",
              "      <td>0.2414</td>\n",
              "      <td>0.10520</td>\n",
              "      <td>0.2597</td>\n",
              "      <td>0.09744</td>\n",
              "      <td>0.4956</td>\n",
              "      <td>1.1560</td>\n",
              "      <td>3.445</td>\n",
              "      <td>27.23</td>\n",
              "      <td>0.009110</td>\n",
              "      <td>0.07458</td>\n",
              "      <td>0.05661</td>\n",
              "      <td>0.01867</td>\n",
              "      <td>0.05963</td>\n",
              "      <td>0.009208</td>\n",
              "      <td>14.91</td>\n",
              "      <td>26.50</td>\n",
              "      <td>98.87</td>\n",
              "      <td>567.7</td>\n",
              "      <td>0.2098</td>\n",
              "      <td>0.8663</td>\n",
              "      <td>0.6869</td>\n",
              "      <td>0.2575</td>\n",
              "      <td>0.6638</td>\n",
              "      <td>0.17300</td>\n",
              "    </tr>\n",
              "    <tr>\n",
              "      <th>4</th>\n",
              "      <td>20.29</td>\n",
              "      <td>14.34</td>\n",
              "      <td>135.10</td>\n",
              "      <td>1297.0</td>\n",
              "      <td>0.10030</td>\n",
              "      <td>0.13280</td>\n",
              "      <td>0.1980</td>\n",
              "      <td>0.10430</td>\n",
              "      <td>0.1809</td>\n",
              "      <td>0.05883</td>\n",
              "      <td>0.7572</td>\n",
              "      <td>0.7813</td>\n",
              "      <td>5.438</td>\n",
              "      <td>94.44</td>\n",
              "      <td>0.011490</td>\n",
              "      <td>0.02461</td>\n",
              "      <td>0.05688</td>\n",
              "      <td>0.01885</td>\n",
              "      <td>0.01756</td>\n",
              "      <td>0.005115</td>\n",
              "      <td>22.54</td>\n",
              "      <td>16.67</td>\n",
              "      <td>152.20</td>\n",
              "      <td>1575.0</td>\n",
              "      <td>0.1374</td>\n",
              "      <td>0.2050</td>\n",
              "      <td>0.4000</td>\n",
              "      <td>0.1625</td>\n",
              "      <td>0.2364</td>\n",
              "      <td>0.07678</td>\n",
              "    </tr>\n",
              "  </tbody>\n",
              "</table>\n",
              "</div>"
            ],
            "text/plain": [
              "   mean radius  mean texture  ...  worst symmetry  worst fractal dimension\n",
              "0        17.99         10.38  ...          0.4601                  0.11890\n",
              "1        20.57         17.77  ...          0.2750                  0.08902\n",
              "2        19.69         21.25  ...          0.3613                  0.08758\n",
              "3        11.42         20.38  ...          0.6638                  0.17300\n",
              "4        20.29         14.34  ...          0.2364                  0.07678\n",
              "\n",
              "[5 rows x 30 columns]"
            ]
          },
          "metadata": {
            "tags": []
          },
          "execution_count": 35
        }
      ]
    },
    {
      "cell_type": "code",
      "metadata": {
        "id": "xB7CHiDqgpaQ",
        "colab_type": "code",
        "colab": {
          "base_uri": "https://localhost:8080/",
          "height": 34
        },
        "outputId": "ffcef22c-826b-44a8-e63c-7646825316b8"
      },
      "source": [
        "# Importing standardscalar module \n",
        "from sklearn.preprocessing import StandardScaler \n",
        "\n",
        "scalar = StandardScaler() \n",
        "\n",
        "# fitting \n",
        "scalar.fit(df_pca) \n",
        "scaled_data = scalar.transform(df_pca) \n",
        "\n",
        "# Importing PCA \n",
        "from sklearn.decomposition import PCA \n",
        "\n",
        "# Let's say, components = 2 \n",
        "pca = PCA(n_components = 2) \n",
        "pca.fit(scaled_data) \n",
        "x_pca = pca.transform(scaled_data) \n",
        "\n",
        "x_pca.shape \n"
      ],
      "execution_count": 36,
      "outputs": [
        {
          "output_type": "execute_result",
          "data": {
            "text/plain": [
              "(569, 2)"
            ]
          },
          "metadata": {
            "tags": []
          },
          "execution_count": 36
        }
      ]
    },
    {
      "cell_type": "code",
      "metadata": {
        "id": "FZVLNCMvgpaS",
        "colab_type": "code",
        "colab": {
          "base_uri": "https://localhost:8080/",
          "height": 466
        },
        "outputId": "fb3e4da3-bfd3-417e-d32b-0baf0c5e9f38"
      },
      "source": [
        "# Plot \n",
        "\n",
        "plt.scatter(x_pca[:, 0], x_pca[:, 1], c = cancer['target'], cmap ='plasma') \n",
        "\n",
        "# labeling x and y axes \n",
        "plt.xlabel('First Principal Component') \n",
        "plt.ylabel('Second Principal Component') \n"
      ],
      "execution_count": 37,
      "outputs": [
        {
          "output_type": "execute_result",
          "data": {
            "text/plain": [
              "Text(0, 0.5, 'Second Principal Component')"
            ]
          },
          "metadata": {
            "tags": []
          },
          "execution_count": 37
        },
        {
          "output_type": "display_data",
          "data": {
            "image/png": "[encoded data removed]",
            "text/plain": [
              "<Figure size 504x504 with 1 Axes>"
            ]
          },
          "metadata": {
            "tags": []
          }
        }
      ]
    },
    {
      "cell_type": "code",
      "metadata": {
        "id": "zES_2R_IgpaT",
        "colab_type": "code",
        "colab": {
          "base_uri": "https://localhost:8080/",
          "height": 558
        },
        "outputId": "58c75f8e-1baf-46b6-c594-2ace6607fe7a"
      },
      "source": [
        "# plotting heatmap\n",
        "df_comp = pd.DataFrame(pca.components_, columns = cancer['feature_names']) \n",
        "sns.heatmap(df_comp) "
      ],
      "execution_count": 41,
      "outputs": [
        {
          "output_type": "execute_result",
          "data": {
            "text/plain": [
              "<matplotlib.axes._subplots.AxesSubplot at 0x7f9b919fbdd8>"
            ]
          },
          "metadata": {
            "tags": []
          },
          "execution_count": 41
        },
        {
          "output_type": "display_data",
          "data": {
            "image/png": "[encoded data removed]",
            "text/plain": [
              "<Figure size 504x504 with 2 Axes>"
            ]
          },
          "metadata": {
            "tags": []
          }
        }
      ]
    }
  ]
}